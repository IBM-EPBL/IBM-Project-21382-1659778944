{
 "cells": [
  {
   "cell_type": "markdown",
   "id": "841b096c",
   "metadata": {},
   "source": [
    "# Image Processing"
   ]
  },
  {
   "cell_type": "code",
   "execution_count": 1,
   "id": "fe2df912",
   "metadata": {},
   "outputs": [],
   "source": [
    "import numpy as np#used for numerical analysis\n",
    "import tensorflow #open source used for both ML and DL for computation\n",
    "from tensorflow.keras.models import Sequential #it is a plain stack of layers\n",
    "from tensorflow.keras import layers #A layer consists of a tensor-in tensor-out computation function\n",
    "#Dense layer is the regular deeply connected neural network layer\n",
    "from tensorflow.keras.layers import Dense,Flatten\n",
    "#Faltten-used fot flattening the input or change the dimension\n",
    "from tensorflow.keras.layers import Conv2D,MaxPooling2D,Dropout #Convolutional layer\n",
    "#MaxPooling2D-for downsampling the image\n",
    "from keras.preprocessing.image import ImageDataGenerator"
   ]
  },
  {
   "cell_type": "code",
   "execution_count": 2,
   "id": "f7666acd",
   "metadata": {},
   "outputs": [],
   "source": [
    "#setting parameter for Image Data agumentation to the training data\n",
    "train_datagen = ImageDataGenerator(rescale=1./255,shear_range=0.2,zoom_range=0.2,horizontal_flip=True)"
   ]
  },
  {
   "cell_type": "code",
   "execution_count": 3,
   "id": "58db3a2e",
   "metadata": {},
   "outputs": [],
   "source": [
    "#Image Data agumentation to the testing data\n",
    "test_datagen=ImageDataGenerator(rescale=1./255)"
   ]
  },
  {
   "cell_type": "code",
   "execution_count": 4,
   "id": "f2128928",
   "metadata": {},
   "outputs": [
    {
     "name": "stdout",
     "output_type": "stream",
     "text": [
      "Found 2626 images belonging to 5 classes.\n"
     ]
    }
   ],
   "source": [
    "#performing data agumentation to train data\n",
    "x_train = train_datagen.flow_from_directory(\n",
    "    r'C:/Users/HARIHARAN D/Desktop/Project/Dataset/TRAIN_SET',\n",
    "    target_size=(64, 64),batch_size=113,color_mode='rgb',class_mode='sparse')"
   ]
  },
  {
   "cell_type": "code",
   "execution_count": 5,
   "id": "41e62ecd",
   "metadata": {},
   "outputs": [
    {
     "name": "stdout",
     "output_type": "stream",
     "text": [
      "Found 1055 images belonging to 5 classes.\n"
     ]
    }
   ],
   "source": [
    "#performing data agumentation to test data\n",
    "x_test = test_datagen.flow_from_directory(\n",
    "    r'C:/Users/HARIHARAN D/Desktop/Project/Dataset/TEST_SET',\n",
    "    target_size=(64, 64),batch_size=113,color_mode='rgb',class_mode='sparse')"
   ]
  },
  {
   "cell_type": "code",
   "execution_count": 6,
   "id": "028621b8",
   "metadata": {},
   "outputs": [
    {
     "name": "stdout",
     "output_type": "stream",
     "text": [
      "{'APPLES': 0, 'BANANA': 1, 'ORANGE': 2, 'PINEAPPLE': 3, 'WATERMELON': 4}\n"
     ]
    }
   ],
   "source": [
    "print(x_train.class_indices)#checking the number of classes"
   ]
  },
  {
   "cell_type": "code",
   "execution_count": 7,
   "id": "028495bc",
   "metadata": {},
   "outputs": [
    {
     "name": "stdout",
     "output_type": "stream",
     "text": [
      "{'APPLES': 0, 'BANANA': 1, 'ORANGE': 2, 'PINEAPPLE': 3, 'WATERMELON': 4}\n"
     ]
    }
   ],
   "source": [
    "print(x_test.class_indices)#checking the number of classes"
   ]
  },
  {
   "cell_type": "markdown",
   "id": "2adb9cfe",
   "metadata": {},
   "source": [
    "# Model Building"
   ]
  },
  {
   "cell_type": "code",
   "execution_count": 8,
   "id": "9cd8cd71",
   "metadata": {},
   "outputs": [
    {
     "data": {
      "text/plain": [
       "Counter({0: 606, 1: 445, 2: 479, 3: 621, 4: 475})"
      ]
     },
     "execution_count": 8,
     "metadata": {},
     "output_type": "execute_result"
    }
   ],
   "source": [
    "from collections import Counter as c\n",
    "c(x_train .labels)"
   ]
  },
  {
   "cell_type": "code",
   "execution_count": 9,
   "id": "deb0ecbf",
   "metadata": {},
   "outputs": [],
   "source": [
    "# Initializing the CNN\n",
    "classifier = Sequential()"
   ]
  },
  {
   "cell_type": "code",
   "execution_count": 10,
   "id": "12af1c8c",
   "metadata": {},
   "outputs": [],
   "source": [
    "# First convolution layer and pooling\n",
    "classifier.add(Conv2D(32, (3, 3), input_shape=(64, 64, 3), activation='relu'))\n",
    "classifier.add(MaxPooling2D(pool_size=(2, 2)))"
   ]
  },
  {
   "cell_type": "code",
   "execution_count": 11,
   "id": "5b993635",
   "metadata": {},
   "outputs": [],
   "source": [
    "# Second convolution layer and pooling\n",
    "classifier.add(Conv2D(32, (3, 3), activation='relu'))"
   ]
  },
  {
   "cell_type": "code",
   "execution_count": 12,
   "id": "3d46cfb3",
   "metadata": {},
   "outputs": [],
   "source": [
    "# input_shape is going to be the pooled feature maps from the previous convolution layer\n",
    "classifier.add(MaxPooling2D(pool_size=(2, 2)))"
   ]
  },
  {
   "cell_type": "code",
   "execution_count": 13,
   "id": "36c77e8f",
   "metadata": {},
   "outputs": [],
   "source": [
    "# Flattening the layers\n",
    "classifier.add(Flatten())"
   ]
  },
  {
   "cell_type": "code",
   "execution_count": 14,
   "id": "6e436f49",
   "metadata": {},
   "outputs": [
    {
     "name": "stdout",
     "output_type": "stream",
     "text": [
      "Model: \"sequential\"\n",
      "_________________________________________________________________\n",
      " Layer (type)                Output Shape              Param #   \n",
      "=================================================================\n",
      " conv2d (Conv2D)             (None, 62, 62, 32)        896       \n",
      "                                                                 \n",
      " max_pooling2d (MaxPooling2D  (None, 31, 31, 32)       0         \n",
      " )                                                               \n",
      "                                                                 \n",
      " conv2d_1 (Conv2D)           (None, 29, 29, 32)        9248      \n",
      "                                                                 \n",
      " max_pooling2d_1 (MaxPooling  (None, 14, 14, 32)       0         \n",
      " 2D)                                                             \n",
      "                                                                 \n",
      " flatten (Flatten)           (None, 6272)              0         \n",
      "                                                                 \n",
      " dense (Dense)               (None, 128)               802944    \n",
      "                                                                 \n",
      " dense_1 (Dense)             (None, 113)               14577     \n",
      "                                                                 \n",
      "=================================================================\n",
      "Total params: 827,665\n",
      "Trainable params: 827,665\n",
      "Non-trainable params: 0\n",
      "_________________________________________________________________\n"
     ]
    }
   ],
   "source": [
    "# Adding a fully connected layer\n",
    "classifier.add(Dense(units=128, activation='relu'))\n",
    "classifier.add(Dense(units=113, activation='softmax')) # softmax for more than 2\n",
    "classifier.summary()#summary of our model"
   ]
  },
  {
   "cell_type": "code",
   "execution_count": 15,
   "id": "00281c6c",
   "metadata": {},
   "outputs": [],
   "source": [
    "# Compiling the CNN\n",
    "# categorical_crossentropy for more than 2\n",
    "classifier.compile(optimizer='adam', loss='sparse_categorical_crossentropy', metrics=['accuracy'])"
   ]
  },
  {
   "cell_type": "code",
   "execution_count": 16,
   "id": "739c82f2",
   "metadata": {},
   "outputs": [
    {
     "name": "stderr",
     "output_type": "stream",
     "text": [
      "C:\\Users\\HARIHARAN D\\AppData\\Local\\Temp\\ipykernel_10752\\2719268462.py:1: UserWarning: `Model.fit_generator` is deprecated and will be removed in a future version. Please use `Model.fit`, which supports generators.\n",
      "  classifier.fit_generator(\n"
     ]
    },
    {
     "name": "stdout",
     "output_type": "stream",
     "text": [
      "Epoch 1/100\n",
      "24/24 [==============================] - 126s 5s/step - loss: 1.0690 - accuracy: 0.6889 - val_loss: 0.1961 - val_accuracy: 0.9365\n",
      "Epoch 2/100\n",
      "24/24 [==============================] - 56s 2s/step - loss: 0.1001 - accuracy: 0.9813 - val_loss: 0.1588 - val_accuracy: 0.9308\n",
      "Epoch 3/100\n",
      "24/24 [==============================] - 59s 2s/step - loss: 0.0313 - accuracy: 0.9962 - val_loss: 0.1167 - val_accuracy: 0.9697\n",
      "Epoch 4/100\n",
      "24/24 [==============================] - 55s 2s/step - loss: 0.0136 - accuracy: 0.9992 - val_loss: 0.1995 - val_accuracy: 0.9175\n",
      "Epoch 5/100\n",
      "24/24 [==============================] - 57s 2s/step - loss: 0.0073 - accuracy: 0.9996 - val_loss: 0.1080 - val_accuracy: 0.9536\n",
      "Epoch 6/100\n",
      "24/24 [==============================] - 55s 2s/step - loss: 0.0129 - accuracy: 0.9966 - val_loss: 0.5614 - val_accuracy: 0.8711\n",
      "Epoch 7/100\n",
      "24/24 [==============================] - 55s 2s/step - loss: 0.0115 - accuracy: 0.9981 - val_loss: 0.0475 - val_accuracy: 0.9791\n",
      "Epoch 8/100\n",
      "24/24 [==============================] - 55s 2s/step - loss: 0.0021 - accuracy: 1.0000 - val_loss: 0.2234 - val_accuracy: 0.9299\n",
      "Epoch 9/100\n",
      "24/24 [==============================] - 55s 2s/step - loss: 0.0014 - accuracy: 1.0000 - val_loss: 0.1944 - val_accuracy: 0.9327\n",
      "Epoch 10/100\n",
      "24/24 [==============================] - 55s 2s/step - loss: 8.8526e-04 - accuracy: 1.0000 - val_loss: 0.3124 - val_accuracy: 0.9109\n",
      "Epoch 11/100\n",
      "24/24 [==============================] - 56s 2s/step - loss: 6.4827e-04 - accuracy: 1.0000 - val_loss: 0.2716 - val_accuracy: 0.9261\n",
      "Epoch 12/100\n",
      "24/24 [==============================] - 56s 2s/step - loss: 6.7322e-04 - accuracy: 1.0000 - val_loss: 0.2458 - val_accuracy: 0.9299\n",
      "Epoch 13/100\n",
      "24/24 [==============================] - 54s 2s/step - loss: 4.5725e-04 - accuracy: 1.0000 - val_loss: 0.1840 - val_accuracy: 0.9365\n",
      "Epoch 14/100\n",
      "24/24 [==============================] - 56s 2s/step - loss: 4.9730e-04 - accuracy: 1.0000 - val_loss: 0.2773 - val_accuracy: 0.9280\n",
      "Epoch 15/100\n",
      "24/24 [==============================] - 56s 2s/step - loss: 0.0067 - accuracy: 0.9981 - val_loss: 0.0610 - val_accuracy: 0.9791\n",
      "Epoch 16/100\n",
      "24/24 [==============================] - 56s 2s/step - loss: 0.6115 - accuracy: 0.8686 - val_loss: 0.3407 - val_accuracy: 0.8521\n",
      "Epoch 17/100\n",
      "24/24 [==============================] - 56s 2s/step - loss: 0.0468 - accuracy: 0.9928 - val_loss: 0.0602 - val_accuracy: 0.9744\n",
      "Epoch 18/100\n",
      "24/24 [==============================] - 54s 2s/step - loss: 0.0073 - accuracy: 0.9996 - val_loss: 0.0368 - val_accuracy: 0.9791\n",
      "Epoch 19/100\n",
      "24/24 [==============================] - 55s 2s/step - loss: 0.0037 - accuracy: 0.9996 - val_loss: 0.0190 - val_accuracy: 0.9905\n",
      "Epoch 20/100\n",
      "24/24 [==============================] - 55s 2s/step - loss: 0.0021 - accuracy: 1.0000 - val_loss: 0.0558 - val_accuracy: 0.9791\n",
      "Epoch 21/100\n",
      "24/24 [==============================] - 55s 2s/step - loss: 0.0014 - accuracy: 1.0000 - val_loss: 0.0350 - val_accuracy: 0.9810\n",
      "Epoch 22/100\n",
      "24/24 [==============================] - 61s 3s/step - loss: 0.0038 - accuracy: 0.9992 - val_loss: 0.0333 - val_accuracy: 0.9801\n",
      "Epoch 23/100\n",
      "24/24 [==============================] - 55s 2s/step - loss: 0.0021 - accuracy: 1.0000 - val_loss: 0.0368 - val_accuracy: 0.9791\n",
      "Epoch 24/100\n",
      "24/24 [==============================] - 56s 2s/step - loss: 0.0013 - accuracy: 0.9996 - val_loss: 0.0375 - val_accuracy: 0.9791\n",
      "Epoch 25/100\n",
      "24/24 [==============================] - 56s 2s/step - loss: 8.8253e-04 - accuracy: 1.0000 - val_loss: 0.0350 - val_accuracy: 0.9801\n",
      "Epoch 26/100\n",
      "24/24 [==============================] - 55s 2s/step - loss: 5.3384e-04 - accuracy: 1.0000 - val_loss: 0.0353 - val_accuracy: 0.9801\n",
      "Epoch 27/100\n",
      "24/24 [==============================] - 56s 2s/step - loss: 4.1865e-04 - accuracy: 1.0000 - val_loss: 0.0378 - val_accuracy: 0.9791\n",
      "Epoch 28/100\n",
      "24/24 [==============================] - 56s 2s/step - loss: 3.7597e-04 - accuracy: 1.0000 - val_loss: 0.0349 - val_accuracy: 0.9801\n",
      "Epoch 29/100\n",
      "24/24 [==============================] - 56s 2s/step - loss: 3.3005e-04 - accuracy: 1.0000 - val_loss: 0.0392 - val_accuracy: 0.9791\n",
      "Epoch 30/100\n",
      "24/24 [==============================] - 58s 2s/step - loss: 3.2794e-04 - accuracy: 1.0000 - val_loss: 0.0408 - val_accuracy: 0.9791\n",
      "Epoch 31/100\n",
      "24/24 [==============================] - 55s 2s/step - loss: 2.9992e-04 - accuracy: 1.0000 - val_loss: 0.0252 - val_accuracy: 0.9839\n",
      "Epoch 32/100\n",
      "24/24 [==============================] - 56s 2s/step - loss: 2.8257e-04 - accuracy: 1.0000 - val_loss: 0.0343 - val_accuracy: 0.9810\n",
      "Epoch 33/100\n",
      "24/24 [==============================] - 56s 2s/step - loss: 2.7755e-04 - accuracy: 1.0000 - val_loss: 0.0402 - val_accuracy: 0.9801\n",
      "Epoch 34/100\n",
      "24/24 [==============================] - 56s 2s/step - loss: 2.4145e-04 - accuracy: 1.0000 - val_loss: 0.0367 - val_accuracy: 0.9801\n",
      "Epoch 35/100\n",
      "24/24 [==============================] - 57s 2s/step - loss: 1.8935e-04 - accuracy: 1.0000 - val_loss: 0.0347 - val_accuracy: 0.9810\n",
      "Epoch 36/100\n",
      "24/24 [==============================] - 56s 2s/step - loss: 1.7926e-04 - accuracy: 1.0000 - val_loss: 0.0370 - val_accuracy: 0.9801\n",
      "Epoch 37/100\n",
      "24/24 [==============================] - 56s 2s/step - loss: 2.8357e-04 - accuracy: 1.0000 - val_loss: 0.0345 - val_accuracy: 0.9810\n",
      "Epoch 38/100\n",
      "24/24 [==============================] - 56s 2s/step - loss: 2.7760e-04 - accuracy: 1.0000 - val_loss: 0.0362 - val_accuracy: 0.9801\n",
      "Epoch 39/100\n",
      "24/24 [==============================] - 56s 2s/step - loss: 1.7192e-04 - accuracy: 1.0000 - val_loss: 0.0381 - val_accuracy: 0.9801\n",
      "Epoch 40/100\n",
      "24/24 [==============================] - 56s 2s/step - loss: 1.3972e-04 - accuracy: 1.0000 - val_loss: 0.0369 - val_accuracy: 0.9801\n",
      "Epoch 41/100\n",
      "24/24 [==============================] - 56s 2s/step - loss: 1.3503e-04 - accuracy: 1.0000 - val_loss: 0.0357 - val_accuracy: 0.9810\n",
      "Epoch 42/100\n",
      "24/24 [==============================] - 55s 2s/step - loss: 1.1172e-04 - accuracy: 1.0000 - val_loss: 0.0351 - val_accuracy: 0.9810\n",
      "Epoch 43/100\n",
      "24/24 [==============================] - 56s 2s/step - loss: 1.3066e-04 - accuracy: 1.0000 - val_loss: 0.0248 - val_accuracy: 0.9848\n",
      "Epoch 44/100\n",
      "24/24 [==============================] - 55s 2s/step - loss: 1.0333e-04 - accuracy: 1.0000 - val_loss: 0.0256 - val_accuracy: 0.9848\n",
      "Epoch 45/100\n",
      "24/24 [==============================] - 63s 3s/step - loss: 9.5447e-05 - accuracy: 1.0000 - val_loss: 0.0295 - val_accuracy: 0.9820\n",
      "Epoch 46/100\n",
      "24/24 [==============================] - 57s 2s/step - loss: 1.0095e-04 - accuracy: 1.0000 - val_loss: 0.0325 - val_accuracy: 0.9820\n",
      "Epoch 47/100\n",
      "24/24 [==============================] - 56s 2s/step - loss: 9.1757e-05 - accuracy: 1.0000 - val_loss: 0.0316 - val_accuracy: 0.9820\n",
      "Epoch 48/100\n",
      "24/24 [==============================] - 60s 2s/step - loss: 8.0119e-05 - accuracy: 1.0000 - val_loss: 0.0304 - val_accuracy: 0.9820\n",
      "Epoch 49/100\n",
      "24/24 [==============================] - 55s 2s/step - loss: 7.1118e-05 - accuracy: 1.0000 - val_loss: 0.0292 - val_accuracy: 0.9820\n",
      "Epoch 50/100\n",
      "24/24 [==============================] - 54s 2s/step - loss: 7.4138e-05 - accuracy: 1.0000 - val_loss: 0.0291 - val_accuracy: 0.9829\n",
      "Epoch 51/100\n",
      "24/24 [==============================] - 54s 2s/step - loss: 7.4535e-05 - accuracy: 1.0000 - val_loss: 0.0149 - val_accuracy: 0.9924\n",
      "Epoch 52/100\n",
      "24/24 [==============================] - 55s 2s/step - loss: 7.3790e-05 - accuracy: 1.0000 - val_loss: 0.0199 - val_accuracy: 0.9886\n",
      "Epoch 53/100\n",
      "24/24 [==============================] - 55s 2s/step - loss: 5.9464e-05 - accuracy: 1.0000 - val_loss: 0.0242 - val_accuracy: 0.9867\n",
      "Epoch 54/100\n",
      "24/24 [==============================] - 57s 2s/step - loss: 6.2845e-05 - accuracy: 1.0000 - val_loss: 0.0274 - val_accuracy: 0.9848\n",
      "Epoch 55/100\n",
      "24/24 [==============================] - 55s 2s/step - loss: 5.9272e-05 - accuracy: 1.0000 - val_loss: 0.0274 - val_accuracy: 0.9848\n",
      "Epoch 56/100\n",
      "24/24 [==============================] - 56s 2s/step - loss: 5.5237e-05 - accuracy: 1.0000 - val_loss: 0.0259 - val_accuracy: 0.9858\n",
      "Epoch 57/100\n"
     ]
    },
    {
     "name": "stdout",
     "output_type": "stream",
     "text": [
      "24/24 [==============================] - 55s 2s/step - loss: 5.3380e-05 - accuracy: 1.0000 - val_loss: 0.0259 - val_accuracy: 0.9858\n",
      "Epoch 58/100\n",
      "24/24 [==============================] - 54s 2s/step - loss: 5.3169e-05 - accuracy: 1.0000 - val_loss: 0.0274 - val_accuracy: 0.9839\n",
      "Epoch 59/100\n",
      "24/24 [==============================] - 55s 2s/step - loss: 4.5359e-05 - accuracy: 1.0000 - val_loss: 0.0237 - val_accuracy: 0.9867\n",
      "Epoch 60/100\n",
      "24/24 [==============================] - 57s 2s/step - loss: 4.4901e-05 - accuracy: 1.0000 - val_loss: 0.0252 - val_accuracy: 0.9858\n",
      "Epoch 61/100\n",
      "24/24 [==============================] - 56s 2s/step - loss: 4.0957e-05 - accuracy: 1.0000 - val_loss: 0.0242 - val_accuracy: 0.9867\n",
      "Epoch 62/100\n",
      "24/24 [==============================] - 54s 2s/step - loss: 4.1679e-05 - accuracy: 1.0000 - val_loss: 0.0232 - val_accuracy: 0.9867\n",
      "Epoch 63/100\n",
      "24/24 [==============================] - 56s 2s/step - loss: 3.6404e-05 - accuracy: 1.0000 - val_loss: 0.0246 - val_accuracy: 0.9867\n",
      "Epoch 64/100\n",
      "24/24 [==============================] - 56s 2s/step - loss: 2.9837e-05 - accuracy: 1.0000 - val_loss: 0.0261 - val_accuracy: 0.9858\n",
      "Epoch 65/100\n",
      "24/24 [==============================] - 56s 2s/step - loss: 3.7786e-05 - accuracy: 1.0000 - val_loss: 0.0266 - val_accuracy: 0.9858\n",
      "Epoch 66/100\n",
      "24/24 [==============================] - 55s 2s/step - loss: 3.1654e-05 - accuracy: 1.0000 - val_loss: 0.0224 - val_accuracy: 0.9867\n",
      "Epoch 67/100\n",
      "24/24 [==============================] - 58s 2s/step - loss: 4.2220e-05 - accuracy: 1.0000 - val_loss: 0.0186 - val_accuracy: 0.9905\n",
      "Epoch 68/100\n",
      "24/24 [==============================] - 55s 2s/step - loss: 2.8114e-05 - accuracy: 1.0000 - val_loss: 0.0227 - val_accuracy: 0.9867\n",
      "Epoch 69/100\n",
      "24/24 [==============================] - 72s 3s/step - loss: 3.3190e-05 - accuracy: 1.0000 - val_loss: 0.0143 - val_accuracy: 0.9924\n",
      "Epoch 70/100\n",
      "24/24 [==============================] - 68s 3s/step - loss: 3.5379e-05 - accuracy: 1.0000 - val_loss: 0.0181 - val_accuracy: 0.9905\n",
      "Epoch 71/100\n",
      "24/24 [==============================] - 63s 3s/step - loss: 2.4218e-05 - accuracy: 1.0000 - val_loss: 0.0193 - val_accuracy: 0.9896\n",
      "Epoch 72/100\n",
      "24/24 [==============================] - 67s 3s/step - loss: 2.4443e-05 - accuracy: 1.0000 - val_loss: 0.0201 - val_accuracy: 0.9886\n",
      "Epoch 73/100\n",
      "24/24 [==============================] - 68s 3s/step - loss: 2.1894e-05 - accuracy: 1.0000 - val_loss: 0.0227 - val_accuracy: 0.9867\n",
      "Epoch 74/100\n",
      "24/24 [==============================] - 78s 3s/step - loss: 2.1896e-05 - accuracy: 1.0000 - val_loss: 0.0243 - val_accuracy: 0.9867\n",
      "Epoch 75/100\n",
      "24/24 [==============================] - 81s 3s/step - loss: 1.7920e-05 - accuracy: 1.0000 - val_loss: 0.0274 - val_accuracy: 0.9858\n",
      "Epoch 76/100\n",
      "24/24 [==============================] - 84s 3s/step - loss: 1.9952e-05 - accuracy: 1.0000 - val_loss: 0.0276 - val_accuracy: 0.9858\n",
      "Epoch 77/100\n",
      "24/24 [==============================] - 75s 3s/step - loss: 2.8279e-05 - accuracy: 1.0000 - val_loss: 0.0279 - val_accuracy: 0.9867\n",
      "Epoch 78/100\n",
      "24/24 [==============================] - 60s 2s/step - loss: 1.6116e-05 - accuracy: 1.0000 - val_loss: 0.0259 - val_accuracy: 0.9867\n",
      "Epoch 79/100\n",
      "24/24 [==============================] - 56s 2s/step - loss: 1.9725e-05 - accuracy: 1.0000 - val_loss: 0.0260 - val_accuracy: 0.9867\n",
      "Epoch 80/100\n",
      "24/24 [==============================] - 61s 2s/step - loss: 1.8805e-05 - accuracy: 1.0000 - val_loss: 0.0240 - val_accuracy: 0.9867\n",
      "Epoch 81/100\n",
      "24/24 [==============================] - 57s 2s/step - loss: 1.5098e-05 - accuracy: 1.0000 - val_loss: 0.0270 - val_accuracy: 0.9858\n",
      "Epoch 82/100\n",
      "24/24 [==============================] - 60s 2s/step - loss: 1.5130e-05 - accuracy: 1.0000 - val_loss: 0.0268 - val_accuracy: 0.9858\n",
      "Epoch 83/100\n",
      "24/24 [==============================] - 62s 3s/step - loss: 1.3168e-05 - accuracy: 1.0000 - val_loss: 0.0245 - val_accuracy: 0.9867\n",
      "Epoch 84/100\n",
      "24/24 [==============================] - 60s 2s/step - loss: 1.9784e-05 - accuracy: 1.0000 - val_loss: 0.0222 - val_accuracy: 0.9877\n",
      "Epoch 85/100\n",
      "24/24 [==============================] - 58s 2s/step - loss: 1.2882e-05 - accuracy: 1.0000 - val_loss: 0.0224 - val_accuracy: 0.9877\n",
      "Epoch 86/100\n",
      "24/24 [==============================] - 60s 2s/step - loss: 1.3491e-05 - accuracy: 1.0000 - val_loss: 0.0248 - val_accuracy: 0.9867\n",
      "Epoch 87/100\n",
      "24/24 [==============================] - 61s 2s/step - loss: 1.7842e-05 - accuracy: 1.0000 - val_loss: 0.0279 - val_accuracy: 0.9858\n",
      "Epoch 88/100\n",
      "24/24 [==============================] - 57s 2s/step - loss: 1.4030e-05 - accuracy: 1.0000 - val_loss: 0.0279 - val_accuracy: 0.9858\n",
      "Epoch 89/100\n",
      "24/24 [==============================] - 57s 2s/step - loss: 9.7156e-06 - accuracy: 1.0000 - val_loss: 0.0276 - val_accuracy: 0.9858\n",
      "Epoch 90/100\n",
      "24/24 [==============================] - 62s 3s/step - loss: 1.2419e-05 - accuracy: 1.0000 - val_loss: 0.0278 - val_accuracy: 0.9858\n",
      "Epoch 91/100\n",
      "24/24 [==============================] - 59s 2s/step - loss: 1.0184e-05 - accuracy: 1.0000 - val_loss: 0.0240 - val_accuracy: 0.9867\n",
      "Epoch 92/100\n",
      "24/24 [==============================] - 59s 2s/step - loss: 9.5683e-06 - accuracy: 1.0000 - val_loss: 0.0255 - val_accuracy: 0.9867\n",
      "Epoch 93/100\n",
      "24/24 [==============================] - 57s 2s/step - loss: 1.0420e-05 - accuracy: 1.0000 - val_loss: 0.0254 - val_accuracy: 0.9867\n",
      "Epoch 94/100\n",
      "24/24 [==============================] - 57s 2s/step - loss: 8.4682e-06 - accuracy: 1.0000 - val_loss: 0.0255 - val_accuracy: 0.9867\n",
      "Epoch 95/100\n",
      "24/24 [==============================] - 58s 2s/step - loss: 8.3936e-06 - accuracy: 1.0000 - val_loss: 0.0276 - val_accuracy: 0.9858\n",
      "Epoch 96/100\n",
      "24/24 [==============================] - 66s 3s/step - loss: 9.0707e-06 - accuracy: 1.0000 - val_loss: 0.0284 - val_accuracy: 0.9858\n",
      "Epoch 97/100\n",
      "24/24 [==============================] - 61s 3s/step - loss: 9.5071e-06 - accuracy: 1.0000 - val_loss: 0.0231 - val_accuracy: 0.9867\n",
      "Epoch 98/100\n",
      "24/24 [==============================] - 62s 3s/step - loss: 8.3121e-06 - accuracy: 1.0000 - val_loss: 0.0232 - val_accuracy: 0.9867\n",
      "Epoch 99/100\n",
      "24/24 [==============================] - 66s 3s/step - loss: 7.8803e-06 - accuracy: 1.0000 - val_loss: 0.0274 - val_accuracy: 0.9858\n",
      "Epoch 100/100\n",
      "24/24 [==============================] - 57s 2s/step - loss: 8.0283e-06 - accuracy: 1.0000 - val_loss: 0.0303 - val_accuracy: 0.9839\n"
     ]
    },
    {
     "data": {
      "text/plain": [
       "<keras.callbacks.History at 0x1829902cd00>"
      ]
     },
     "execution_count": 16,
     "metadata": {},
     "output_type": "execute_result"
    }
   ],
   "source": [
    "classifier.fit_generator(\n",
    "        generator=x_train,steps_per_epoch = len(x_train),\n",
    "        epochs=100, validation_data=x_test,validation_steps = len(x_test))# No of images in test set"
   ]
  },
  {
   "cell_type": "code",
   "execution_count": 17,
   "id": "c76c9acf",
   "metadata": {},
   "outputs": [],
   "source": [
    "# Save the model\n",
    "classifier.save('nutrition.h5')"
   ]
  }
 ],
 "metadata": {
  "kernelspec": {
   "display_name": "Python 3 (ipykernel)",
   "language": "python",
   "name": "python3"
  },
  "language_info": {
   "codemirror_mode": {
    "name": "ipython",
    "version": 3
   },
   "file_extension": ".py",
   "mimetype": "text/x-python",
   "name": "python",
   "nbconvert_exporter": "python",
   "pygments_lexer": "ipython3",
   "version": "3.9.13"
  }
 },
 "nbformat": 4,
 "nbformat_minor": 5
}

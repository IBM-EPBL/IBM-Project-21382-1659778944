{
 "cells": [
  {
   "cell_type": "markdown",
   "id": "841b096c",
   "metadata": {},
   "source": [
    "# Image Processing"
   ]
  },
  {
   "cell_type": "code",
   "execution_count": 1,
   "id": "fe2df912",
   "metadata": {},
   "outputs": [],
   "source": [
    "import numpy as np#used for numerical analysis\n",
    "import tensorflow #open source used for both ML and DL for computation\n",
    "from tensorflow.keras.models import Sequential #it is a plain stack of layers\n",
    "from tensorflow.keras import layers #A layer consists of a tensor-in tensor-out computation function\n",
    "#Dense layer is the regular deeply connected neural network layer\n",
    "from tensorflow.keras.layers import Dense,Flatten\n",
    "#Faltten-used fot flattening the input or change the dimension\n",
    "from tensorflow.keras.layers import Conv2D,MaxPooling2D,Dropout #Convolutional layer\n",
    "#MaxPooling2D-for downsampling the image\n",
    "from keras.preprocessing.image import ImageDataGenerator"
   ]
  },
  {
   "cell_type": "code",
   "execution_count": 2,
   "id": "f7666acd",
   "metadata": {},
   "outputs": [],
   "source": [
    "#setting parameter for Image Data agumentation to the training data\n",
    "train_datagen = ImageDataGenerator(rescale=1./255,shear_range=0.2,zoom_range=0.2,horizontal_flip=True)"
   ]
  },
  {
   "cell_type": "code",
   "execution_count": 3,
   "id": "58db3a2e",
   "metadata": {},
   "outputs": [],
   "source": [
    "#Image Data agumentation to the testing data\n",
    "test_datagen=ImageDataGenerator(rescale=1./255)"
   ]
  },
  {
   "cell_type": "code",
   "execution_count": 4,
   "id": "f2128928",
   "metadata": {},
   "outputs": [
    {
     "name": "stdout",
     "output_type": "stream",
     "text": [
      "Found 2626 images belonging to 5 classes.\n"
     ]
    }
   ],
   "source": [
    "#performing data agumentation to train data\n",
    "x_train = train_datagen.flow_from_directory(\n",
    "    r'C:/Users/HARIHARAN D/Desktop/Project/Dataset/TRAIN_SET',\n",
    "    target_size=(64, 64),batch_size=113,color_mode='rgb',class_mode='sparse')"
   ]
  },
  {
   "cell_type": "code",
   "execution_count": 5,
   "id": "41e62ecd",
   "metadata": {},
   "outputs": [
    {
     "name": "stdout",
     "output_type": "stream",
     "text": [
      "Found 0 images belonging to 0 classes.\n"
     ]
    }
   ],
   "source": [
    "#performing data agumentation to test data\n",
    "x_test = test_datagen.flow_from_directory(\n",
    "    r'C:/Users/HARIHARAN D/Desktop/Project/Dataset/TEST_SET',\n",
    "    target_size=(64, 64),batch_size=113,color_mode='rgb',class_mode='sparse')"
   ]
  },
  {
   "cell_type": "code",
   "execution_count": 6,
   "id": "028621b8",
   "metadata": {},
   "outputs": [
    {
     "name": "stdout",
     "output_type": "stream",
     "text": [
      "{'APPLES': 0, 'BANANA': 1, 'ORANGE': 2, 'PINEAPPLE': 3, 'WATERMELON': 4}\n"
     ]
    }
   ],
   "source": [
    "print(x_train.class_indices)#checking the number of classes"
   ]
  },
  {
   "cell_type": "code",
   "execution_count": 7,
   "id": "028495bc",
   "metadata": {},
   "outputs": [
    {
     "name": "stdout",
     "output_type": "stream",
     "text": [
      "{}\n"
     ]
    }
   ],
   "source": [
    "print(x_test.class_indices)#checking the number of classes"
   ]
  },
  {
   "cell_type": "markdown",
   "id": "2adb9cfe",
   "metadata": {},
   "source": [
    "# Model Building"
   ]
  },
  {
   "cell_type": "code",
   "execution_count": 8,
   "id": "9cd8cd71",
   "metadata": {},
   "outputs": [
    {
     "data": {
      "text/plain": [
       "Counter({0: 606, 1: 445, 2: 479, 3: 621, 4: 475})"
      ]
     },
     "execution_count": 8,
     "metadata": {},
     "output_type": "execute_result"
    }
   ],
   "source": [
    "from collections import Counter as c\n",
    "c(x_train .labels)"
   ]
  },
  {
   "cell_type": "code",
   "execution_count": 9,
   "id": "deb0ecbf",
   "metadata": {},
   "outputs": [],
   "source": [
    "# Initializing the CNN\n",
    "classifier = Sequential()"
   ]
  },
  {
   "cell_type": "code",
   "execution_count": 10,
   "id": "12af1c8c",
   "metadata": {},
   "outputs": [],
   "source": [
    "# First convolution layer and pooling\n",
    "classifier.add(Conv2D(32, (3, 3), input_shape=(64, 64, 3), activation='relu'))\n",
    "classifier.add(MaxPooling2D(pool_size=(2, 2)))"
   ]
  },
  {
   "cell_type": "code",
   "execution_count": 11,
   "id": "5b993635",
   "metadata": {},
   "outputs": [],
   "source": [
    "# Second convolution layer and pooling\n",
    "classifier.add(Conv2D(32, (3, 3), activation='relu'))"
   ]
  },
  {
   "cell_type": "code",
   "execution_count": 12,
   "id": "3d46cfb3",
   "metadata": {},
   "outputs": [],
   "source": [
    "# input_shape is going to be the pooled feature maps from the previous convolution layer\n",
    "classifier.add(MaxPooling2D(pool_size=(2, 2)))"
   ]
  },
  {
   "cell_type": "code",
   "execution_count": 13,
   "id": "36c77e8f",
   "metadata": {},
   "outputs": [],
   "source": [
    "# Flattening the layers\n",
    "classifier.add(Flatten())"
   ]
  },
  {
   "cell_type": "code",
   "execution_count": 14,
   "id": "6e436f49",
   "metadata": {},
   "outputs": [
    {
     "name": "stdout",
     "output_type": "stream",
     "text": [
      "Model: \"sequential\"\n",
      "_________________________________________________________________\n",
      " Layer (type)                Output Shape              Param #   \n",
      "=================================================================\n",
      " conv2d (Conv2D)             (None, 62, 62, 32)        896       \n",
      "                                                                 \n",
      " max_pooling2d (MaxPooling2D  (None, 31, 31, 32)       0         \n",
      " )                                                               \n",
      "                                                                 \n",
      " conv2d_1 (Conv2D)           (None, 29, 29, 32)        9248      \n",
      "                                                                 \n",
      " max_pooling2d_1 (MaxPooling  (None, 14, 14, 32)       0         \n",
      " 2D)                                                             \n",
      "                                                                 \n",
      " flatten (Flatten)           (None, 6272)              0         \n",
      "                                                                 \n",
      " dense (Dense)               (None, 128)               802944    \n",
      "                                                                 \n",
      " dense_1 (Dense)             (None, 113)               14577     \n",
      "                                                                 \n",
      "=================================================================\n",
      "Total params: 827,665\n",
      "Trainable params: 827,665\n",
      "Non-trainable params: 0\n",
      "_________________________________________________________________\n"
     ]
    }
   ],
   "source": [
    "# Adding a fully connected layer\n",
    "classifier.add(Dense(units=128, activation='relu'))\n",
    "classifier.add(Dense(units=113, activation='softmax')) # softmax for more than 2\n",
    "classifier.summary()#summary of our model"
   ]
  },
  {
   "cell_type": "code",
   "execution_count": 15,
   "id": "00281c6c",
   "metadata": {},
   "outputs": [],
   "source": [
    "# Compiling the CNN\n",
    "# categorical_crossentropy for more than 2\n",
    "classifier.compile(optimizer='adam', loss='sparse_categorical_crossentropy', metrics=['accuracy'])"
   ]
  },
  {
   "cell_type": "code",
   "execution_count": 16,
   "id": "739c82f2",
   "metadata": {},
   "outputs": [
    {
     "name": "stderr",
     "output_type": "stream",
     "text": [
      "C:\\Users\\HARIHARAN D\\AppData\\Local\\Temp\\ipykernel_11176\\2719268462.py:1: UserWarning: `Model.fit_generator` is deprecated and will be removed in a future version. Please use `Model.fit`, which supports generators.\n",
      "  classifier.fit_generator(\n"
     ]
    },
    {
     "name": "stdout",
     "output_type": "stream",
     "text": [
      "Epoch 1/100\n",
      "24/24 [==============================] - 113s 4s/step - loss: 1.3440 - accuracy: 0.6363\n",
      "Epoch 2/100\n",
      "24/24 [==============================] - 26s 1s/step - loss: 0.1407 - accuracy: 0.9680\n",
      "Epoch 3/100\n",
      "24/24 [==============================] - 24s 985ms/step - loss: 0.0244 - accuracy: 0.9950\n",
      "Epoch 4/100\n",
      "24/24 [==============================] - 24s 990ms/step - loss: 0.0125 - accuracy: 0.9981\n",
      "Epoch 5/100\n",
      "24/24 [==============================] - 24s 996ms/step - loss: 0.0088 - accuracy: 0.9981\n",
      "Epoch 6/100\n",
      "24/24 [==============================] - 28s 1s/step - loss: 0.0038 - accuracy: 1.0000\n",
      "Epoch 7/100\n",
      "24/24 [==============================] - 31s 1s/step - loss: 0.0032 - accuracy: 0.9996\n",
      "Epoch 8/100\n",
      "24/24 [==============================] - 30s 1s/step - loss: 0.0038 - accuracy: 0.9996\n",
      "Epoch 9/100\n",
      "24/24 [==============================] - 31s 1s/step - loss: 0.0022 - accuracy: 0.9996\n",
      "Epoch 10/100\n",
      "24/24 [==============================] - 31s 1s/step - loss: 8.9277e-04 - accuracy: 1.0000\n",
      "Epoch 11/100\n",
      "24/24 [==============================] - 31s 1s/step - loss: 9.9548e-04 - accuracy: 1.0000\n",
      "Epoch 12/100\n",
      "24/24 [==============================] - 34s 1s/step - loss: 0.0023 - accuracy: 1.0000\n",
      "Epoch 13/100\n",
      "24/24 [==============================] - 30s 1s/step - loss: 0.0016 - accuracy: 1.0000\n",
      "Epoch 14/100\n",
      "24/24 [==============================] - 31s 1s/step - loss: 0.0016 - accuracy: 1.0000\n",
      "Epoch 15/100\n",
      "24/24 [==============================] - 31s 1s/step - loss: 0.0015 - accuracy: 0.9996\n",
      "Epoch 16/100\n",
      "24/24 [==============================] - 31s 1s/step - loss: 4.9635e-04 - accuracy: 1.0000\n",
      "Epoch 17/100\n",
      "24/24 [==============================] - 29s 1s/step - loss: 3.1498e-04 - accuracy: 1.0000\n",
      "Epoch 18/100\n",
      "24/24 [==============================] - 33s 1s/step - loss: 2.6001e-04 - accuracy: 1.0000\n",
      "Epoch 19/100\n",
      "24/24 [==============================] - 28s 1s/step - loss: 1.5676e-04 - accuracy: 1.0000\n",
      "Epoch 20/100\n",
      "24/24 [==============================] - 33s 1s/step - loss: 2.4355e-04 - accuracy: 1.0000\n",
      "Epoch 21/100\n",
      "24/24 [==============================] - 38s 2s/step - loss: 3.9673e-04 - accuracy: 1.0000\n",
      "Epoch 22/100\n",
      "24/24 [==============================] - 43s 2s/step - loss: 3.5595e-04 - accuracy: 1.0000\n",
      "Epoch 23/100\n",
      "24/24 [==============================] - 42s 2s/step - loss: 2.4897e-04 - accuracy: 1.0000\n",
      "Epoch 24/100\n",
      "24/24 [==============================] - 44s 2s/step - loss: 1.6526e-04 - accuracy: 1.0000\n",
      "Epoch 25/100\n",
      "24/24 [==============================] - 30s 1s/step - loss: 1.5380e-04 - accuracy: 1.0000\n",
      "Epoch 26/100\n",
      "24/24 [==============================] - 27s 1s/step - loss: 1.9483e-04 - accuracy: 1.0000\n",
      "Epoch 27/100\n",
      "24/24 [==============================] - 28s 1s/step - loss: 1.1137e-04 - accuracy: 1.0000\n",
      "Epoch 28/100\n",
      "24/24 [==============================] - 26s 1s/step - loss: 9.8713e-05 - accuracy: 1.0000\n",
      "Epoch 29/100\n",
      "24/24 [==============================] - 26s 1s/step - loss: 1.0336e-04 - accuracy: 1.0000\n",
      "Epoch 30/100\n",
      "24/24 [==============================] - 26s 1s/step - loss: 5.3318e-04 - accuracy: 1.0000\n",
      "Epoch 31/100\n",
      "24/24 [==============================] - 26s 1s/step - loss: 0.0012 - accuracy: 0.9996\n",
      "Epoch 32/100\n",
      "24/24 [==============================] - 25s 1s/step - loss: 2.5692e-04 - accuracy: 1.0000\n",
      "Epoch 33/100\n",
      "24/24 [==============================] - 26s 1s/step - loss: 0.0016 - accuracy: 0.9996\n",
      "Epoch 34/100\n",
      "24/24 [==============================] - 25s 1s/step - loss: 0.3928 - accuracy: 0.9056\n",
      "Epoch 35/100\n",
      "24/24 [==============================] - 28s 1s/step - loss: 0.0144 - accuracy: 0.9989\n",
      "Epoch 36/100\n",
      "24/24 [==============================] - 26s 1s/step - loss: 8.7213e-04 - accuracy: 1.0000\n",
      "Epoch 37/100\n",
      "24/24 [==============================] - 28s 1s/step - loss: 4.0981e-04 - accuracy: 1.0000\n",
      "Epoch 38/100\n",
      "24/24 [==============================] - 25s 1s/step - loss: 4.5022e-04 - accuracy: 1.0000\n",
      "Epoch 39/100\n",
      "24/24 [==============================] - 25s 1s/step - loss: 2.7116e-04 - accuracy: 1.0000\n",
      "Epoch 40/100\n",
      "24/24 [==============================] - 25s 1s/step - loss: 1.7499e-04 - accuracy: 1.0000\n",
      "Epoch 41/100\n",
      "24/24 [==============================] - 25s 1s/step - loss: 1.4389e-04 - accuracy: 1.0000\n",
      "Epoch 42/100\n",
      "24/24 [==============================] - 25s 1s/step - loss: 1.8264e-04 - accuracy: 1.0000\n",
      "Epoch 43/100\n",
      "24/24 [==============================] - 25s 1s/step - loss: 1.5931e-04 - accuracy: 1.0000\n",
      "Epoch 44/100\n",
      "24/24 [==============================] - 25s 1s/step - loss: 1.0853e-04 - accuracy: 1.0000\n",
      "Epoch 45/100\n",
      "24/24 [==============================] - 25s 1s/step - loss: 9.1591e-05 - accuracy: 1.0000\n",
      "Epoch 46/100\n",
      "24/24 [==============================] - 25s 1s/step - loss: 6.4146e-05 - accuracy: 1.0000\n",
      "Epoch 47/100\n",
      "24/24 [==============================] - 25s 1s/step - loss: 7.4014e-05 - accuracy: 1.0000\n",
      "Epoch 48/100\n",
      "24/24 [==============================] - 25s 1s/step - loss: 7.6105e-05 - accuracy: 1.0000\n",
      "Epoch 49/100\n",
      "24/24 [==============================] - 25s 1s/step - loss: 5.4586e-05 - accuracy: 1.0000\n",
      "Epoch 50/100\n",
      "24/24 [==============================] - 25s 1s/step - loss: 4.7465e-05 - accuracy: 1.0000\n",
      "Epoch 51/100\n",
      "24/24 [==============================] - 29s 1s/step - loss: 3.6261e-05 - accuracy: 1.0000\n",
      "Epoch 52/100\n",
      "24/24 [==============================] - 25s 1s/step - loss: 5.2370e-05 - accuracy: 1.0000\n",
      "Epoch 53/100\n",
      "24/24 [==============================] - 25s 1s/step - loss: 3.8507e-05 - accuracy: 1.0000\n",
      "Epoch 54/100\n",
      "24/24 [==============================] - 25s 1s/step - loss: 3.4886e-05 - accuracy: 1.0000\n",
      "Epoch 55/100\n",
      "24/24 [==============================] - 25s 1s/step - loss: 2.8958e-05 - accuracy: 1.0000\n",
      "Epoch 56/100\n",
      "24/24 [==============================] - 25s 1s/step - loss: 2.6667e-05 - accuracy: 1.0000\n",
      "Epoch 57/100\n",
      "24/24 [==============================] - 25s 1s/step - loss: 2.8992e-05 - accuracy: 1.0000\n",
      "Epoch 58/100\n",
      "24/24 [==============================] - 25s 1s/step - loss: 2.7505e-05 - accuracy: 1.0000\n",
      "Epoch 59/100\n",
      "24/24 [==============================] - 25s 1s/step - loss: 3.1866e-05 - accuracy: 1.0000\n",
      "Epoch 60/100\n",
      "24/24 [==============================] - 25s 1s/step - loss: 2.5978e-05 - accuracy: 1.0000\n",
      "Epoch 61/100\n",
      "24/24 [==============================] - 27s 1s/step - loss: 2.3372e-05 - accuracy: 1.0000\n",
      "Epoch 62/100\n",
      "24/24 [==============================] - 25s 1s/step - loss: 2.4360e-05 - accuracy: 1.0000\n",
      "Epoch 63/100\n",
      "24/24 [==============================] - 25s 1s/step - loss: 2.3374e-05 - accuracy: 1.0000\n",
      "Epoch 64/100\n",
      "24/24 [==============================] - 25s 1s/step - loss: 2.8076e-05 - accuracy: 1.0000\n",
      "Epoch 65/100\n",
      "24/24 [==============================] - 25s 1s/step - loss: 2.0593e-05 - accuracy: 1.0000\n",
      "Epoch 66/100\n",
      "24/24 [==============================] - 25s 1s/step - loss: 2.0662e-05 - accuracy: 1.0000\n",
      "Epoch 67/100\n",
      "24/24 [==============================] - 25s 1s/step - loss: 1.6668e-05 - accuracy: 1.0000\n",
      "Epoch 68/100\n",
      "24/24 [==============================] - 25s 1s/step - loss: 1.7938e-05 - accuracy: 1.0000\n",
      "Epoch 69/100\n",
      "24/24 [==============================] - 25s 1s/step - loss: 1.8488e-05 - accuracy: 1.0000\n",
      "Epoch 70/100\n",
      "24/24 [==============================] - 26s 1s/step - loss: 1.7164e-05 - accuracy: 1.0000\n",
      "Epoch 71/100\n",
      "24/24 [==============================] - 26s 1s/step - loss: 1.5591e-05 - accuracy: 1.0000\n",
      "Epoch 72/100\n",
      "24/24 [==============================] - 26s 1s/step - loss: 1.4172e-05 - accuracy: 1.0000\n",
      "Epoch 73/100\n",
      "24/24 [==============================] - 25s 1s/step - loss: 1.4296e-05 - accuracy: 1.0000\n",
      "Epoch 74/100\n",
      "24/24 [==============================] - 25s 1s/step - loss: 1.3114e-05 - accuracy: 1.0000\n",
      "Epoch 75/100\n",
      "24/24 [==============================] - 25s 1s/step - loss: 1.6129e-05 - accuracy: 1.0000\n",
      "Epoch 76/100\n",
      "24/24 [==============================] - 29s 1s/step - loss: 1.5143e-05 - accuracy: 1.0000\n",
      "Epoch 77/100\n",
      "24/24 [==============================] - 25s 1s/step - loss: 1.5252e-05 - accuracy: 1.0000\n",
      "Epoch 78/100\n",
      "24/24 [==============================] - 25s 1s/step - loss: 1.4674e-05 - accuracy: 1.0000\n",
      "Epoch 79/100\n",
      "24/24 [==============================] - 26s 1s/step - loss: 1.0852e-05 - accuracy: 1.0000\n",
      "Epoch 80/100\n"
     ]
    },
    {
     "name": "stdout",
     "output_type": "stream",
     "text": [
      "24/24 [==============================] - 25s 1s/step - loss: 1.1260e-05 - accuracy: 1.0000\n",
      "Epoch 81/100\n",
      "24/24 [==============================] - 25s 1s/step - loss: 1.5409e-05 - accuracy: 1.0000\n",
      "Epoch 82/100\n",
      "24/24 [==============================] - 25s 1s/step - loss: 1.0012e-05 - accuracy: 1.0000\n",
      "Epoch 83/100\n",
      "24/24 [==============================] - 25s 1s/step - loss: 1.1174e-05 - accuracy: 1.0000\n",
      "Epoch 84/100\n",
      "24/24 [==============================] - 26s 1s/step - loss: 1.0766e-05 - accuracy: 1.0000\n",
      "Epoch 85/100\n",
      "24/24 [==============================] - 32s 1s/step - loss: 7.9439e-06 - accuracy: 1.0000\n",
      "Epoch 86/100\n",
      "24/24 [==============================] - 26s 1s/step - loss: 9.3996e-06 - accuracy: 1.0000\n",
      "Epoch 87/100\n",
      "24/24 [==============================] - 27s 1s/step - loss: 8.4184e-06 - accuracy: 1.0000\n",
      "Epoch 88/100\n",
      "24/24 [==============================] - 26s 1s/step - loss: 6.1703e-06 - accuracy: 1.0000\n",
      "Epoch 89/100\n",
      "24/24 [==============================] - 26s 1s/step - loss: 9.3865e-06 - accuracy: 1.0000\n",
      "Epoch 90/100\n",
      "24/24 [==============================] - 27s 1s/step - loss: 7.5565e-06 - accuracy: 1.0000\n",
      "Epoch 91/100\n",
      "24/24 [==============================] - 26s 1s/step - loss: 7.8033e-06 - accuracy: 1.0000\n",
      "Epoch 92/100\n",
      "24/24 [==============================] - 27s 1s/step - loss: 6.7872e-06 - accuracy: 1.0000\n",
      "Epoch 93/100\n",
      "24/24 [==============================] - 28s 1s/step - loss: 6.1418e-06 - accuracy: 1.0000\n",
      "Epoch 94/100\n",
      "24/24 [==============================] - 25s 1s/step - loss: 7.1080e-06 - accuracy: 1.0000\n",
      "Epoch 95/100\n",
      "24/24 [==============================] - 25s 1s/step - loss: 6.4799e-06 - accuracy: 1.0000\n",
      "Epoch 96/100\n",
      "24/24 [==============================] - 25s 1s/step - loss: 6.3449e-06 - accuracy: 1.0000\n",
      "Epoch 97/100\n",
      "24/24 [==============================] - 26s 1s/step - loss: 6.8288e-06 - accuracy: 1.0000\n",
      "Epoch 98/100\n",
      "24/24 [==============================] - 26s 1s/step - loss: 7.7740e-06 - accuracy: 1.0000\n",
      "Epoch 99/100\n",
      "24/24 [==============================] - 25s 1s/step - loss: 9.5511e-06 - accuracy: 1.0000\n",
      "Epoch 100/100\n",
      "24/24 [==============================] - 25s 1s/step - loss: 6.2365e-06 - accuracy: 1.0000\n"
     ]
    },
    {
     "data": {
      "text/plain": [
       "<keras.callbacks.History at 0x1cab5404fa0>"
      ]
     },
     "execution_count": 16,
     "metadata": {},
     "output_type": "execute_result"
    }
   ],
   "source": [
    "classifier.fit_generator(\n",
    "        generator=x_train,steps_per_epoch = len(x_train),\n",
    "        epochs=100, validation_data=x_test,validation_steps = len(x_test))# No of images in test set"
   ]
  },
  {
   "cell_type": "code",
   "execution_count": 17,
   "id": "c76c9acf",
   "metadata": {},
   "outputs": [],
   "source": [
    "# Save the model\n",
    "classifier.save('nutrition.h5')"
   ]
  }
 ],
 "metadata": {
  "kernelspec": {
   "display_name": "Python 3 (ipykernel)",
   "language": "python",
   "name": "python3"
  },
  "language_info": {
   "codemirror_mode": {
    "name": "ipython",
    "version": 3
   },
   "file_extension": ".py",
   "mimetype": "text/x-python",
   "name": "python",
   "nbconvert_exporter": "python",
   "pygments_lexer": "ipython3",
   "version": "3.9.13"
  }
 },
 "nbformat": 4,
 "nbformat_minor": 5
}

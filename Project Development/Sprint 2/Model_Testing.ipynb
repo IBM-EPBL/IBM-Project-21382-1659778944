{
 "cells": [
  {
   "cell_type": "markdown",
   "id": "53b172f2",
   "metadata": {},
   "source": [
    "# Image Processing"
   ]
  },
  {
   "cell_type": "code",
   "execution_count": 1,
   "id": "10dba12a",
   "metadata": {},
   "outputs": [],
   "source": [
    "import numpy as np#used for numerical analysis\n",
    "import tensorflow #open source used for both ML and DL for computation\n",
    "from tensorflow.keras.models import Sequential #it is a plain stack of layers\n",
    "from tensorflow.keras import layers #A layer consists of a tensor-in tensor-out computation function\n",
    "#Dense layer is the regular deeply connected neural network layer\n",
    "from tensorflow.keras.layers import Dense,Flatten\n",
    "#Faltten-used fot flattening the input or change the dimension\n",
    "from tensorflow.keras.layers import Conv2D,MaxPooling2D,Dropout #Convolutional layer\n",
    "#MaxPooling2D-for downsampling the image\n",
    "from keras.preprocessing.image import ImageDataGenerator"
   ]
  },
  {
   "cell_type": "code",
   "execution_count": 2,
   "id": "7e838925",
   "metadata": {},
   "outputs": [],
   "source": [
    "#setting parameter for Image Data agumentation to the training data\n",
    "train_datagen = ImageDataGenerator(rescale=1./255,shear_range=0.2,zoom_range=0.2,horizontal_flip=True)"
   ]
  },
  {
   "cell_type": "code",
   "execution_count": 3,
   "id": "5c654166",
   "metadata": {},
   "outputs": [],
   "source": [
    "#Image Data agumentation to the testing data\n",
    "test_datagen=ImageDataGenerator(rescale=1./255)"
   ]
  },
  {
   "cell_type": "code",
   "execution_count": 4,
   "id": "52af79b5",
   "metadata": {},
   "outputs": [
    {
     "name": "stdout",
     "output_type": "stream",
     "text": [
      "Found 2626 images belonging to 5 classes.\n"
     ]
    }
   ],
   "source": [
    "#performing data agumentation to train data\n",
    "x_train = train_datagen.flow_from_directory(\n",
    "    r'C:/Users/HARIHARAN D/Desktop/Project/Dataset/TRAIN_SET',\n",
    "    target_size=(64, 64),batch_size=113,color_mode='rgb',class_mode='sparse')"
   ]
  },
  {
   "cell_type": "code",
   "execution_count": 5,
   "id": "c2809815",
   "metadata": {},
   "outputs": [
    {
     "name": "stdout",
     "output_type": "stream",
     "text": [
      "Found 1055 images belonging to 5 classes.\n"
     ]
    }
   ],
   "source": [
    "#performing data agumentation to test data\n",
    "x_test = test_datagen.flow_from_directory(\n",
    "    r'C:/Users/HARIHARAN D/Desktop/Project/Dataset/TEST_SET',\n",
    "    target_size=(64, 64),batch_size=113,color_mode='rgb',class_mode='sparse')"
   ]
  },
  {
   "cell_type": "code",
   "execution_count": 6,
   "id": "9557584a",
   "metadata": {},
   "outputs": [
    {
     "name": "stdout",
     "output_type": "stream",
     "text": [
      "{'APPLES': 0, 'BANANA': 1, 'ORANGE': 2, 'PINEAPPLE': 3, 'WATERMELON': 4}\n"
     ]
    }
   ],
   "source": [
    "print(x_train.class_indices)#checking the number of classes"
   ]
  },
  {
   "cell_type": "code",
   "execution_count": 7,
   "id": "fe7929f3",
   "metadata": {},
   "outputs": [
    {
     "name": "stdout",
     "output_type": "stream",
     "text": [
      "{'APPLES': 0, 'BANANA': 1, 'ORANGE': 2, 'PINEAPPLE': 3, 'WATERMELON': 4}\n"
     ]
    }
   ],
   "source": [
    "print(x_test.class_indices)#checking the number of classes"
   ]
  },
  {
   "cell_type": "markdown",
   "id": "2e352fe1",
   "metadata": {},
   "source": [
    "# Model Building"
   ]
  },
  {
   "cell_type": "code",
   "execution_count": 8,
   "id": "64b8d964",
   "metadata": {},
   "outputs": [
    {
     "data": {
      "text/plain": [
       "Counter({0: 606, 1: 445, 2: 479, 3: 621, 4: 475})"
      ]
     },
     "execution_count": 8,
     "metadata": {},
     "output_type": "execute_result"
    }
   ],
   "source": [
    "from collections import Counter as c\n",
    "c(x_train .labels)"
   ]
  },
  {
   "cell_type": "code",
   "execution_count": 9,
   "id": "1c5b6b63",
   "metadata": {},
   "outputs": [],
   "source": [
    "# Initializing the CNN\n",
    "classifier = Sequential()"
   ]
  },
  {
   "cell_type": "code",
   "execution_count": 10,
   "id": "40a431b3",
   "metadata": {},
   "outputs": [],
   "source": [
    "# First convolution layer and pooling\n",
    "classifier.add(Conv2D(32, (3, 3), input_shape=(64, 64, 3), activation='relu'))\n",
    "classifier.add(MaxPooling2D(pool_size=(2, 2)))"
   ]
  },
  {
   "cell_type": "code",
   "execution_count": 11,
   "id": "718ee7d5",
   "metadata": {},
   "outputs": [],
   "source": [
    "# Second convolution layer and pooling\n",
    "classifier.add(Conv2D(32, (3, 3), activation='relu'))"
   ]
  },
  {
   "cell_type": "code",
   "execution_count": 12,
   "id": "030cef14",
   "metadata": {},
   "outputs": [],
   "source": [
    "# input_shape is going to be the pooled feature maps from the previous convolution layer\n",
    "classifier.add(MaxPooling2D(pool_size=(2, 2)))"
   ]
  },
  {
   "cell_type": "code",
   "execution_count": 13,
   "id": "cba5328e",
   "metadata": {},
   "outputs": [],
   "source": [
    "# Flattening the layers\n",
    "classifier.add(Flatten())"
   ]
  },
  {
   "cell_type": "code",
   "execution_count": 14,
   "id": "3700033d",
   "metadata": {},
   "outputs": [
    {
     "name": "stdout",
     "output_type": "stream",
     "text": [
      "Model: \"sequential\"\n",
      "_________________________________________________________________\n",
      " Layer (type)                Output Shape              Param #   \n",
      "=================================================================\n",
      " conv2d (Conv2D)             (None, 62, 62, 32)        896       \n",
      "                                                                 \n",
      " max_pooling2d (MaxPooling2D  (None, 31, 31, 32)       0         \n",
      " )                                                               \n",
      "                                                                 \n",
      " conv2d_1 (Conv2D)           (None, 29, 29, 32)        9248      \n",
      "                                                                 \n",
      " max_pooling2d_1 (MaxPooling  (None, 14, 14, 32)       0         \n",
      " 2D)                                                             \n",
      "                                                                 \n",
      " flatten (Flatten)           (None, 6272)              0         \n",
      "                                                                 \n",
      " dense (Dense)               (None, 128)               802944    \n",
      "                                                                 \n",
      " dense_1 (Dense)             (None, 113)               14577     \n",
      "                                                                 \n",
      "=================================================================\n",
      "Total params: 827,665\n",
      "Trainable params: 827,665\n",
      "Non-trainable params: 0\n",
      "_________________________________________________________________\n"
     ]
    }
   ],
   "source": [
    "# Adding a fully connected layer\n",
    "classifier.add(Dense(units=128, activation='relu'))\n",
    "classifier.add(Dense(units=113, activation='softmax')) # softmax for more than 2\n",
    "classifier.summary()#summary of our model"
   ]
  },
  {
   "cell_type": "code",
   "execution_count": 15,
   "id": "cc387c78",
   "metadata": {},
   "outputs": [],
   "source": [
    "# Compiling the CNN\n",
    "# categorical_crossentropy for more than 2\n",
    "classifier.compile(optimizer='adam', loss='sparse_categorical_crossentropy', metrics=['accuracy'])"
   ]
  },
  {
   "cell_type": "code",
   "execution_count": 16,
   "id": "45cbc69d",
   "metadata": {},
   "outputs": [
    {
     "name": "stderr",
     "output_type": "stream",
     "text": [
      "C:\\Users\\HARIHARAN D\\AppData\\Local\\Temp\\ipykernel_876\\2719268462.py:1: UserWarning: `Model.fit_generator` is deprecated and will be removed in a future version. Please use `Model.fit`, which supports generators.\n",
      "  classifier.fit_generator(\n"
     ]
    },
    {
     "name": "stdout",
     "output_type": "stream",
     "text": [
      "Epoch 1/100\n",
      "24/24 [==============================] - 85s 4s/step - loss: 1.1166 - accuracy: 0.6664 - val_loss: 0.5713 - val_accuracy: 0.7915\n",
      "Epoch 2/100\n",
      "24/24 [==============================] - 56s 2s/step - loss: 0.1345 - accuracy: 0.9680 - val_loss: 0.1244 - val_accuracy: 0.9687\n",
      "Epoch 3/100\n",
      "24/24 [==============================] - 58s 2s/step - loss: 0.0301 - accuracy: 0.9950 - val_loss: 0.0950 - val_accuracy: 0.9649\n",
      "Epoch 4/100\n",
      "24/24 [==============================] - 54s 2s/step - loss: 0.0092 - accuracy: 0.9992 - val_loss: 0.0305 - val_accuracy: 0.9839\n",
      "Epoch 5/100\n",
      "24/24 [==============================] - 58s 2s/step - loss: 0.0037 - accuracy: 1.0000 - val_loss: 0.0958 - val_accuracy: 0.9327\n",
      "Epoch 6/100\n",
      "24/24 [==============================] - 54s 2s/step - loss: 0.0040 - accuracy: 0.9996 - val_loss: 0.1262 - val_accuracy: 0.9308\n",
      "Epoch 7/100\n",
      "24/24 [==============================] - 55s 2s/step - loss: 0.0038 - accuracy: 0.9996 - val_loss: 0.0856 - val_accuracy: 0.9403\n",
      "Epoch 8/100\n",
      "24/24 [==============================] - 54s 2s/step - loss: 0.0018 - accuracy: 1.0000 - val_loss: 0.0915 - val_accuracy: 0.9441\n",
      "Epoch 9/100\n",
      "24/24 [==============================] - 55s 2s/step - loss: 0.0011 - accuracy: 1.0000 - val_loss: 0.0606 - val_accuracy: 0.9744\n",
      "Epoch 10/100\n",
      "24/24 [==============================] - 55s 2s/step - loss: 0.0032 - accuracy: 0.9985 - val_loss: 0.0401 - val_accuracy: 0.9791\n",
      "Epoch 11/100\n",
      "24/24 [==============================] - 55s 2s/step - loss: 0.0016 - accuracy: 1.0000 - val_loss: 0.2445 - val_accuracy: 0.8976\n",
      "Epoch 12/100\n",
      "24/24 [==============================] - 55s 2s/step - loss: 9.1060e-04 - accuracy: 1.0000 - val_loss: 0.0673 - val_accuracy: 0.9716\n",
      "Epoch 13/100\n",
      "24/24 [==============================] - 57s 2s/step - loss: 6.3794e-04 - accuracy: 1.0000 - val_loss: 0.0744 - val_accuracy: 0.9735\n",
      "Epoch 14/100\n",
      "24/24 [==============================] - 56s 2s/step - loss: 4.9641e-04 - accuracy: 1.0000 - val_loss: 0.0484 - val_accuracy: 0.9801\n",
      "Epoch 15/100\n",
      "24/24 [==============================] - 55s 2s/step - loss: 4.2447e-04 - accuracy: 1.0000 - val_loss: 0.0587 - val_accuracy: 0.9744\n",
      "Epoch 16/100\n",
      "24/24 [==============================] - 56s 2s/step - loss: 6.8598e-04 - accuracy: 1.0000 - val_loss: 0.0894 - val_accuracy: 0.9431\n",
      "Epoch 17/100\n",
      "24/24 [==============================] - 55s 2s/step - loss: 5.0880e-04 - accuracy: 1.0000 - val_loss: 0.0135 - val_accuracy: 0.9934\n",
      "Epoch 18/100\n",
      "24/24 [==============================] - 56s 2s/step - loss: 3.5383e-04 - accuracy: 1.0000 - val_loss: 0.0730 - val_accuracy: 0.9725\n",
      "Epoch 19/100\n",
      "24/24 [==============================] - 55s 2s/step - loss: 3.1312e-04 - accuracy: 1.0000 - val_loss: 0.0352 - val_accuracy: 0.9877\n",
      "Epoch 20/100\n",
      "24/24 [==============================] - 56s 2s/step - loss: 3.4733e-04 - accuracy: 1.0000 - val_loss: 0.0794 - val_accuracy: 0.9649\n",
      "Epoch 21/100\n",
      "24/24 [==============================] - 55s 2s/step - loss: 2.6333e-04 - accuracy: 1.0000 - val_loss: 0.0273 - val_accuracy: 0.9867\n",
      "Epoch 22/100\n",
      "24/24 [==============================] - 61s 3s/step - loss: 1.9971e-04 - accuracy: 1.0000 - val_loss: 0.0628 - val_accuracy: 0.9791\n",
      "Epoch 23/100\n",
      "24/24 [==============================] - 55s 2s/step - loss: 1.5435e-04 - accuracy: 1.0000 - val_loss: 0.0449 - val_accuracy: 0.9791\n",
      "Epoch 24/100\n",
      "24/24 [==============================] - 56s 2s/step - loss: 1.5421e-04 - accuracy: 1.0000 - val_loss: 0.0597 - val_accuracy: 0.9735\n",
      "Epoch 25/100\n",
      "24/24 [==============================] - 57s 2s/step - loss: 1.4855e-04 - accuracy: 1.0000 - val_loss: 0.0337 - val_accuracy: 0.9867\n",
      "Epoch 26/100\n",
      "24/24 [==============================] - 57s 2s/step - loss: 1.0699e-04 - accuracy: 1.0000 - val_loss: 0.0532 - val_accuracy: 0.9801\n",
      "Epoch 27/100\n",
      "24/24 [==============================] - 55s 2s/step - loss: 1.0342e-04 - accuracy: 1.0000 - val_loss: 0.0381 - val_accuracy: 0.9820\n",
      "Epoch 28/100\n",
      "24/24 [==============================] - 56s 2s/step - loss: 9.6818e-05 - accuracy: 1.0000 - val_loss: 0.0401 - val_accuracy: 0.9820\n",
      "Epoch 29/100\n",
      "24/24 [==============================] - 56s 2s/step - loss: 9.3103e-05 - accuracy: 1.0000 - val_loss: 0.0472 - val_accuracy: 0.9801\n",
      "Epoch 30/100\n",
      "24/24 [==============================] - 59s 2s/step - loss: 1.1018e-04 - accuracy: 1.0000 - val_loss: 0.0488 - val_accuracy: 0.9782\n",
      "Epoch 31/100\n",
      "24/24 [==============================] - 57s 2s/step - loss: 7.5205e-05 - accuracy: 1.0000 - val_loss: 0.0353 - val_accuracy: 0.9820\n",
      "Epoch 32/100\n",
      "24/24 [==============================] - 55s 2s/step - loss: 5.8352e-05 - accuracy: 1.0000 - val_loss: 0.0313 - val_accuracy: 0.9829\n",
      "Epoch 33/100\n",
      "24/24 [==============================] - 57s 2s/step - loss: 1.7803e-04 - accuracy: 1.0000 - val_loss: 0.0175 - val_accuracy: 0.9924\n",
      "Epoch 34/100\n",
      "24/24 [==============================] - 57s 2s/step - loss: 8.2722e-05 - accuracy: 1.0000 - val_loss: 0.0339 - val_accuracy: 0.9848\n",
      "Epoch 35/100\n",
      "24/24 [==============================] - 57s 2s/step - loss: 5.8105e-05 - accuracy: 1.0000 - val_loss: 0.0531 - val_accuracy: 0.9744\n",
      "Epoch 36/100\n",
      "24/24 [==============================] - 56s 2s/step - loss: 1.0462e-04 - accuracy: 1.0000 - val_loss: 0.0290 - val_accuracy: 0.9839\n",
      "Epoch 37/100\n",
      "24/24 [==============================] - 57s 2s/step - loss: 1.3162e-04 - accuracy: 1.0000 - val_loss: 0.0168 - val_accuracy: 0.9915\n",
      "Epoch 38/100\n",
      "24/24 [==============================] - 56s 2s/step - loss: 2.1263e-04 - accuracy: 1.0000 - val_loss: 0.0933 - val_accuracy: 0.9763\n",
      "Epoch 39/100\n",
      "24/24 [==============================] - 56s 2s/step - loss: 7.5162e-05 - accuracy: 1.0000 - val_loss: 0.0355 - val_accuracy: 0.9829\n",
      "Epoch 40/100\n",
      "24/24 [==============================] - 55s 2s/step - loss: 5.4870e-05 - accuracy: 1.0000 - val_loss: 0.0481 - val_accuracy: 0.9810\n",
      "Epoch 41/100\n",
      "24/24 [==============================] - 56s 2s/step - loss: 5.7051e-05 - accuracy: 1.0000 - val_loss: 0.0531 - val_accuracy: 0.9773\n",
      "Epoch 42/100\n",
      "24/24 [==============================] - 56s 2s/step - loss: 5.2787e-05 - accuracy: 1.0000 - val_loss: 0.0366 - val_accuracy: 0.9820\n",
      "Epoch 43/100\n",
      "24/24 [==============================] - 55s 2s/step - loss: 4.0744e-05 - accuracy: 1.0000 - val_loss: 0.0367 - val_accuracy: 0.9820\n",
      "Epoch 44/100\n",
      "24/24 [==============================] - 56s 2s/step - loss: 4.7635e-05 - accuracy: 1.0000 - val_loss: 0.0613 - val_accuracy: 0.9716\n",
      "Epoch 45/100\n",
      "24/24 [==============================] - 64s 3s/step - loss: 5.0339e-05 - accuracy: 1.0000 - val_loss: 0.0399 - val_accuracy: 0.9820\n",
      "Epoch 46/100\n",
      "24/24 [==============================] - 57s 2s/step - loss: 4.2147e-05 - accuracy: 1.0000 - val_loss: 0.0295 - val_accuracy: 0.9848\n",
      "Epoch 47/100\n",
      "24/24 [==============================] - 57s 2s/step - loss: 3.7183e-05 - accuracy: 1.0000 - val_loss: 0.0439 - val_accuracy: 0.9820\n",
      "Epoch 48/100\n",
      "24/24 [==============================] - 59s 2s/step - loss: 2.9552e-05 - accuracy: 1.0000 - val_loss: 0.0353 - val_accuracy: 0.9829\n",
      "Epoch 49/100\n",
      "24/24 [==============================] - 55s 2s/step - loss: 2.5923e-05 - accuracy: 1.0000 - val_loss: 0.0457 - val_accuracy: 0.9820\n",
      "Epoch 50/100\n",
      "24/24 [==============================] - 56s 2s/step - loss: 3.3786e-05 - accuracy: 1.0000 - val_loss: 0.0211 - val_accuracy: 0.9886\n",
      "Epoch 51/100\n",
      "24/24 [==============================] - 56s 2s/step - loss: 5.5414e-05 - accuracy: 1.0000 - val_loss: 0.0291 - val_accuracy: 0.9839\n",
      "Epoch 52/100\n",
      "24/24 [==============================] - 55s 2s/step - loss: 6.1687e-05 - accuracy: 1.0000 - val_loss: 0.0642 - val_accuracy: 0.9716\n",
      "Epoch 53/100\n",
      "24/24 [==============================] - 56s 2s/step - loss: 2.9857e-05 - accuracy: 1.0000 - val_loss: 0.0318 - val_accuracy: 0.9839\n",
      "Epoch 54/100\n",
      "24/24 [==============================] - 57s 2s/step - loss: 1.9712e-05 - accuracy: 1.0000 - val_loss: 0.0445 - val_accuracy: 0.9820\n",
      "Epoch 55/100\n",
      "24/24 [==============================] - 56s 2s/step - loss: 1.9752e-05 - accuracy: 1.0000 - val_loss: 0.0452 - val_accuracy: 0.9820\n",
      "Epoch 56/100\n",
      "24/24 [==============================] - 55s 2s/step - loss: 5.3124e-05 - accuracy: 1.0000 - val_loss: 0.0120 - val_accuracy: 0.9924\n",
      "Epoch 57/100\n"
     ]
    },
    {
     "name": "stdout",
     "output_type": "stream",
     "text": [
      "24/24 [==============================] - 55s 2s/step - loss: 4.2602e-05 - accuracy: 1.0000 - val_loss: 0.0616 - val_accuracy: 0.9773\n",
      "Epoch 58/100\n",
      "24/24 [==============================] - 57s 2s/step - loss: 3.1881e-05 - accuracy: 1.0000 - val_loss: 0.0223 - val_accuracy: 0.9886\n",
      "Epoch 59/100\n",
      "24/24 [==============================] - 55s 2s/step - loss: 3.0146e-05 - accuracy: 1.0000 - val_loss: 0.0453 - val_accuracy: 0.9820\n",
      "Epoch 60/100\n",
      "24/24 [==============================] - 57s 2s/step - loss: 1.6260e-05 - accuracy: 1.0000 - val_loss: 0.0453 - val_accuracy: 0.9810\n",
      "Epoch 61/100\n",
      "24/24 [==============================] - 56s 2s/step - loss: 1.9445e-05 - accuracy: 1.0000 - val_loss: 0.0369 - val_accuracy: 0.9820\n",
      "Epoch 62/100\n",
      "24/24 [==============================] - 56s 2s/step - loss: 2.0714e-05 - accuracy: 1.0000 - val_loss: 0.0366 - val_accuracy: 0.9829\n",
      "Epoch 63/100\n",
      "24/24 [==============================] - 55s 2s/step - loss: 1.6111e-05 - accuracy: 1.0000 - val_loss: 0.0379 - val_accuracy: 0.9820\n",
      "Epoch 64/100\n",
      "24/24 [==============================] - 56s 2s/step - loss: 2.4448e-05 - accuracy: 1.0000 - val_loss: 0.0234 - val_accuracy: 0.9877\n",
      "Epoch 65/100\n",
      "24/24 [==============================] - 55s 2s/step - loss: 2.0358e-05 - accuracy: 1.0000 - val_loss: 0.0318 - val_accuracy: 0.9839\n",
      "Epoch 66/100\n",
      "24/24 [==============================] - 56s 2s/step - loss: 1.5734e-05 - accuracy: 1.0000 - val_loss: 0.0420 - val_accuracy: 0.9820\n",
      "Epoch 67/100\n",
      "24/24 [==============================] - 58s 2s/step - loss: 1.4912e-05 - accuracy: 1.0000 - val_loss: 0.0359 - val_accuracy: 0.9820\n",
      "Epoch 68/100\n",
      "24/24 [==============================] - 61s 3s/step - loss: 1.7257e-05 - accuracy: 1.0000 - val_loss: 0.0255 - val_accuracy: 0.9867\n",
      "Epoch 69/100\n",
      "24/24 [==============================] - 75s 3s/step - loss: 1.9521e-05 - accuracy: 1.0000 - val_loss: 0.0663 - val_accuracy: 0.9706\n",
      "Epoch 70/100\n",
      "24/24 [==============================] - 63s 3s/step - loss: 1.5241e-05 - accuracy: 1.0000 - val_loss: 0.0366 - val_accuracy: 0.9829\n",
      "Epoch 71/100\n",
      "24/24 [==============================] - 73s 3s/step - loss: 2.1504e-05 - accuracy: 1.0000 - val_loss: 0.0228 - val_accuracy: 0.9886\n",
      "Epoch 72/100\n",
      "24/24 [==============================] - 63s 3s/step - loss: 1.3043e-05 - accuracy: 1.0000 - val_loss: 0.0446 - val_accuracy: 0.9820\n",
      "Epoch 73/100\n",
      "24/24 [==============================] - 73s 3s/step - loss: 7.5775e-05 - accuracy: 1.0000 - val_loss: 0.0806 - val_accuracy: 0.9697\n",
      "Epoch 74/100\n",
      "24/24 [==============================] - 83s 3s/step - loss: 3.0661e-05 - accuracy: 1.0000 - val_loss: 0.0396 - val_accuracy: 0.9820\n",
      "Epoch 75/100\n",
      "24/24 [==============================] - 83s 3s/step - loss: 1.4346e-05 - accuracy: 1.0000 - val_loss: 0.0613 - val_accuracy: 0.9782\n",
      "Epoch 76/100\n",
      "24/24 [==============================] - 79s 3s/step - loss: 1.2202e-05 - accuracy: 1.0000 - val_loss: 0.0414 - val_accuracy: 0.9820\n",
      "Epoch 77/100\n",
      "24/24 [==============================] - 69s 3s/step - loss: 1.4107e-05 - accuracy: 1.0000 - val_loss: 0.0395 - val_accuracy: 0.9820\n",
      "Epoch 78/100\n",
      "24/24 [==============================] - 58s 2s/step - loss: 1.2687e-05 - accuracy: 1.0000 - val_loss: 0.0406 - val_accuracy: 0.9820\n",
      "Epoch 79/100\n",
      "24/24 [==============================] - 62s 3s/step - loss: 1.0952e-05 - accuracy: 1.0000 - val_loss: 0.0316 - val_accuracy: 0.9839\n",
      "Epoch 80/100\n",
      "24/24 [==============================] - 58s 2s/step - loss: 1.2248e-05 - accuracy: 1.0000 - val_loss: 0.0406 - val_accuracy: 0.9820\n",
      "Epoch 81/100\n",
      "24/24 [==============================] - 59s 2s/step - loss: 1.3829e-05 - accuracy: 1.0000 - val_loss: 0.0367 - val_accuracy: 0.9820\n",
      "Epoch 82/100\n",
      "24/24 [==============================] - 58s 2s/step - loss: 1.2379e-05 - accuracy: 1.0000 - val_loss: 0.0469 - val_accuracy: 0.9810\n",
      "Epoch 83/100\n",
      "24/24 [==============================] - 63s 3s/step - loss: 4.0032e-05 - accuracy: 1.0000 - val_loss: 0.0561 - val_accuracy: 0.9791\n",
      "Epoch 84/100\n",
      "24/24 [==============================] - 58s 2s/step - loss: 1.2729e-05 - accuracy: 1.0000 - val_loss: 0.0461 - val_accuracy: 0.9810\n",
      "Epoch 85/100\n",
      "24/24 [==============================] - 59s 2s/step - loss: 1.1248e-05 - accuracy: 1.0000 - val_loss: 0.0464 - val_accuracy: 0.9820\n",
      "Epoch 86/100\n",
      "24/24 [==============================] - 62s 3s/step - loss: 9.3564e-06 - accuracy: 1.0000 - val_loss: 0.0402 - val_accuracy: 0.9820\n",
      "Epoch 87/100\n",
      "24/24 [==============================] - 61s 2s/step - loss: 8.3264e-06 - accuracy: 1.0000 - val_loss: 0.0421 - val_accuracy: 0.9820\n",
      "Epoch 88/100\n",
      "24/24 [==============================] - 57s 2s/step - loss: 1.3702e-05 - accuracy: 1.0000 - val_loss: 0.0192 - val_accuracy: 0.9886\n",
      "Epoch 89/100\n",
      "24/24 [==============================] - 57s 2s/step - loss: 9.1134e-06 - accuracy: 1.0000 - val_loss: 0.0453 - val_accuracy: 0.9820\n",
      "Epoch 90/100\n",
      "24/24 [==============================] - 62s 3s/step - loss: 1.0825e-05 - accuracy: 1.0000 - val_loss: 0.0287 - val_accuracy: 0.9867\n",
      "Epoch 91/100\n",
      "24/24 [==============================] - 61s 2s/step - loss: 7.4278e-06 - accuracy: 1.0000 - val_loss: 0.0448 - val_accuracy: 0.9820\n",
      "Epoch 92/100\n",
      "24/24 [==============================] - 60s 2s/step - loss: 8.2802e-06 - accuracy: 1.0000 - val_loss: 0.0327 - val_accuracy: 0.9829\n",
      "Epoch 93/100\n",
      "24/24 [==============================] - 57s 2s/step - loss: 8.1408e-06 - accuracy: 1.0000 - val_loss: 0.0318 - val_accuracy: 0.9839\n",
      "Epoch 94/100\n",
      "24/24 [==============================] - 58s 2s/step - loss: 6.2419e-06 - accuracy: 1.0000 - val_loss: 0.0452 - val_accuracy: 0.9820\n",
      "Epoch 95/100\n",
      "24/24 [==============================] - 67s 3s/step - loss: 5.7123e-06 - accuracy: 1.0000 - val_loss: 0.0420 - val_accuracy: 0.9820\n",
      "Epoch 96/100\n",
      "24/24 [==============================] - 59s 2s/step - loss: 7.5155e-06 - accuracy: 1.0000 - val_loss: 0.0467 - val_accuracy: 0.9810\n",
      "Epoch 97/100\n",
      "24/24 [==============================] - 64s 3s/step - loss: 9.7920e-06 - accuracy: 1.0000 - val_loss: 0.0262 - val_accuracy: 0.9867\n",
      "Epoch 98/100\n",
      "24/24 [==============================] - 65s 3s/step - loss: 9.9336e-06 - accuracy: 1.0000 - val_loss: 0.0416 - val_accuracy: 0.9820\n",
      "Epoch 99/100\n",
      "24/24 [==============================] - 61s 2s/step - loss: 6.7041e-06 - accuracy: 1.0000 - val_loss: 0.0425 - val_accuracy: 0.9820\n",
      "Epoch 100/100\n",
      "24/24 [==============================] - 41s 2s/step - loss: 5.2443e-06 - accuracy: 1.0000 - val_loss: 0.0435 - val_accuracy: 0.9820\n"
     ]
    },
    {
     "data": {
      "text/plain": [
       "<keras.callbacks.History at 0x2693b124550>"
      ]
     },
     "execution_count": 16,
     "metadata": {},
     "output_type": "execute_result"
    }
   ],
   "source": [
    "classifier.fit_generator(\n",
    "        generator=x_train,steps_per_epoch = len(x_train),\n",
    "        epochs=100, validation_data=x_test,validation_steps = len(x_test))# No of images in test set"
   ]
  },
  {
   "cell_type": "code",
   "execution_count": 17,
   "id": "c212dc1e",
   "metadata": {},
   "outputs": [],
   "source": [
    "# Save the model\n",
    "classifier.save('nutrition.h5')"
   ]
  },
  {
   "cell_type": "code",
   "execution_count": 18,
   "id": "303bb618",
   "metadata": {},
   "outputs": [],
   "source": [
    "from tensorflow.keras.models import load_model\n",
    "from tensorflow.keras.preprocessing import image\n",
    "import numpy as np"
   ]
  },
  {
   "cell_type": "code",
   "execution_count": 19,
   "id": "3a115ab3",
   "metadata": {},
   "outputs": [],
   "source": [
    "img=image.load_img(r\"C:\\Users\\HARIHARAN D\\Desktop\\Project\\Dataset\\photo-1589820296156-2454bb8a6ad1.jpg\",target_size=(64,64))"
   ]
  },
  {
   "cell_type": "code",
   "execution_count": 20,
   "id": "1ace58d3",
   "metadata": {
    "scrolled": true
   },
   "outputs": [
    {
     "data": {
      "image/png": "[encoded data removed]",
      "text/plain": [
       "<PIL.Image.Image image mode=RGB size=64x64>"
      ]
     },
     "execution_count": 20,
     "metadata": {},
     "output_type": "execute_result"
    }
   ],
   "source": [
    "img"
   ]
  },
  {
   "cell_type": "code",
   "execution_count": 21,
   "id": "83a2b468",
   "metadata": {},
   "outputs": [],
   "source": [
    "x=image.img_to_array(img)#conversion image into array"
   ]
  },
  {
   "cell_type": "code",
   "execution_count": 22,
   "id": "ac398656",
   "metadata": {},
   "outputs": [
    {
     "data": {
      "text/plain": [
       "array([[[184., 158.,   3.],\n",
       "        [186., 160.,   3.],\n",
       "        [183., 157.,   0.],\n",
       "        ...,\n",
       "        [203., 182.,   1.],\n",
       "        [204., 181.,   5.],\n",
       "        [204., 181.,   3.]],\n",
       "\n",
       "       [[184., 158.,   1.],\n",
       "        [186., 160.,   1.],\n",
       "        [188., 162.,   3.],\n",
       "        ...,\n",
       "        [205., 183.,   2.],\n",
       "        [204., 182.,   1.],\n",
       "        [205., 183.,   1.]],\n",
       "\n",
       "       [[187., 159.,   0.],\n",
       "        [190., 162.,   3.],\n",
       "        [191., 163.,   2.],\n",
       "        ...,\n",
       "        [207., 185.,   3.],\n",
       "        [206., 184.,   2.],\n",
       "        [206., 186.,   1.]],\n",
       "\n",
       "       ...,\n",
       "\n",
       "       [[210., 191.,   1.],\n",
       "        [211., 192.,   2.],\n",
       "        [214., 194.,   3.],\n",
       "        ...,\n",
       "        [225., 217.,  57.],\n",
       "        [224., 216.,  53.],\n",
       "        [224., 216.,  56.]],\n",
       "\n",
       "       [[211., 190.,   3.],\n",
       "        [211., 190.,   1.],\n",
       "        [212., 193.,   2.],\n",
       "        ...,\n",
       "        [225., 217.,  54.],\n",
       "        [223., 218.,  56.],\n",
       "        [222., 216.,  56.]],\n",
       "\n",
       "       [[211., 192.,   2.],\n",
       "        [212., 193.,   2.],\n",
       "        [211., 192.,   1.],\n",
       "        ...,\n",
       "        [222., 218.,  59.],\n",
       "        [221., 215.,  55.],\n",
       "        [226., 219.,  53.]]], dtype=float32)"
      ]
     },
     "execution_count": 22,
     "metadata": {},
     "output_type": "execute_result"
    }
   ],
   "source": [
    "x"
   ]
  },
  {
   "cell_type": "code",
   "execution_count": 23,
   "id": "5ae08de8",
   "metadata": {},
   "outputs": [
    {
     "data": {
      "text/plain": [
       "3"
      ]
     },
     "execution_count": 23,
     "metadata": {},
     "output_type": "execute_result"
    }
   ],
   "source": [
    "x.ndim"
   ]
  },
  {
   "cell_type": "code",
   "execution_count": 24,
   "id": "a9099173",
   "metadata": {},
   "outputs": [],
   "source": [
    "x=np.expand_dims(x,axis=0) #expand the dimension"
   ]
  },
  {
   "cell_type": "code",
   "execution_count": 25,
   "id": "fc3575c8",
   "metadata": {},
   "outputs": [
    {
     "data": {
      "text/plain": [
       "4"
      ]
     },
     "execution_count": 25,
     "metadata": {},
     "output_type": "execute_result"
    }
   ],
   "source": [
    "x.ndim"
   ]
  },
  {
   "cell_type": "code",
   "execution_count": 26,
   "id": "0076113e",
   "metadata": {},
   "outputs": [
    {
     "name": "stdout",
     "output_type": "stream",
     "text": [
      "1/1 [==============================] - 4s 4s/step\n"
     ]
    }
   ],
   "source": [
    "pred = classifier.predict(x)"
   ]
  },
  {
   "cell_type": "code",
   "execution_count": 27,
   "id": "6a347ebc",
   "metadata": {},
   "outputs": [
    {
     "data": {
      "text/plain": [
       "array([[0., 1., 0., 0., 0., 0., 0., 0., 0., 0., 0., 0., 0., 0., 0., 0.,\n",
       "        0., 0., 0., 0., 0., 0., 0., 0., 0., 0., 0., 0., 0., 0., 0., 0.,\n",
       "        0., 0., 0., 0., 0., 0., 0., 0., 0., 0., 0., 0., 0., 0., 0., 0.,\n",
       "        0., 0., 0., 0., 0., 0., 0., 0., 0., 0., 0., 0., 0., 0., 0., 0.,\n",
       "        0., 0., 0., 0., 0., 0., 0., 0., 0., 0., 0., 0., 0., 0., 0., 0.,\n",
       "        0., 0., 0., 0., 0., 0., 0., 0., 0., 0., 0., 0., 0., 0., 0., 0.,\n",
       "        0., 0., 0., 0., 0., 0., 0., 0., 0., 0., 0., 0., 0., 0., 0., 0.,\n",
       "        0.]], dtype=float32)"
      ]
     },
     "execution_count": 27,
     "metadata": {},
     "output_type": "execute_result"
    }
   ],
   "source": [
    "pred"
   ]
  },
  {
   "cell_type": "code",
   "execution_count": 28,
   "id": "01721e24",
   "metadata": {},
   "outputs": [],
   "source": [
    "labels=['APPLES','BANANA','ORANGE','PINEAPPLE','WATERMELON']"
   ]
  },
  {
   "cell_type": "code",
   "execution_count": 29,
   "id": "cae958db",
   "metadata": {},
   "outputs": [
    {
     "data": {
      "text/plain": [
       "'BANANA'"
      ]
     },
     "execution_count": 29,
     "metadata": {},
     "output_type": "execute_result"
    }
   ],
   "source": [
    "labels[np.argmax(pred)]"
   ]
  }
 ],
 "metadata": {
  "kernelspec": {
   "display_name": "Python 3 (ipykernel)",
   "language": "python",
   "name": "python3"
  },
  "language_info": {
   "codemirror_mode": {
    "name": "ipython",
    "version": 3
   },
   "file_extension": ".py",
   "mimetype": "text/x-python",
   "name": "python",
   "nbconvert_exporter": "python",
   "pygments_lexer": "ipython3",
   "version": "3.9.13"
  }
 },
 "nbformat": 4,
 "nbformat_minor": 5
}

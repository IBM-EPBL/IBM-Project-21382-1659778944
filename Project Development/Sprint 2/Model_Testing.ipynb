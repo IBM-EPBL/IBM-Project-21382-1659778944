{
 "cells": [
  {
   "cell_type": "markdown",
   "id": "53b172f2",
   "metadata": {},
   "source": [
    "# Image Processing"
   ]
  },
  {
   "cell_type": "code",
   "execution_count": 1,
   "id": "10dba12a",
   "metadata": {},
   "outputs": [],
   "source": [
    "import numpy as np#used for numerical analysis\n",
    "import tensorflow #open source used for both ML and DL for computation\n",
    "from tensorflow.keras.models import Sequential #it is a plain stack of layers\n",
    "from tensorflow.keras import layers #A layer consists of a tensor-in tensor-out computation function\n",
    "#Dense layer is the regular deeply connected neural network layer\n",
    "from tensorflow.keras.layers import Dense,Flatten\n",
    "#Faltten-used fot flattening the input or change the dimension\n",
    "from tensorflow.keras.layers import Conv2D,MaxPooling2D,Dropout #Convolutional layer\n",
    "#MaxPooling2D-for downsampling the image\n",
    "from keras.preprocessing.image import ImageDataGenerator"
   ]
  },
  {
   "cell_type": "code",
   "execution_count": 2,
   "id": "7e838925",
   "metadata": {},
   "outputs": [],
   "source": [
    "#setting parameter for Image Data agumentation to the training data\n",
    "train_datagen = ImageDataGenerator(rescale=1./255,shear_range=0.2,zoom_range=0.2,horizontal_flip=True)"
   ]
  },
  {
   "cell_type": "code",
   "execution_count": 3,
   "id": "5c654166",
   "metadata": {},
   "outputs": [],
   "source": [
    "#Image Data agumentation to the testing data\n",
    "test_datagen=ImageDataGenerator(rescale=1./255)"
   ]
  },
  {
   "cell_type": "code",
   "execution_count": 4,
   "id": "52af79b5",
   "metadata": {},
   "outputs": [
    {
     "name": "stdout",
     "output_type": "stream",
     "text": [
      "Found 2626 images belonging to 5 classes.\n"
     ]
    }
   ],
   "source": [
    "#performing data agumentation to train data\n",
    "x_train = train_datagen.flow_from_directory(\n",
    "    r'C:/Users/HARIHARAN D/Desktop/Project/Dataset/TRAIN_SET',\n",
    "    target_size=(64, 64),batch_size=113,color_mode='rgb',class_mode='sparse')"
   ]
  },
  {
   "cell_type": "code",
   "execution_count": 5,
   "id": "c2809815",
   "metadata": {},
   "outputs": [
    {
     "name": "stdout",
     "output_type": "stream",
     "text": [
      "Found 0 images belonging to 0 classes.\n"
     ]
    }
   ],
   "source": [
    "#performing data agumentation to test data\n",
    "x_test = test_datagen.flow_from_directory(\n",
    "    r'C:/Users/HARIHARAN D/Desktop/Project/Dataset/TEST_SET',\n",
    "    target_size=(64, 64),batch_size=113,color_mode='rgb',class_mode='sparse')"
   ]
  },
  {
   "cell_type": "code",
   "execution_count": 6,
   "id": "9557584a",
   "metadata": {},
   "outputs": [
    {
     "name": "stdout",
     "output_type": "stream",
     "text": [
      "{'APPLES': 0, 'BANANA': 1, 'ORANGE': 2, 'PINEAPPLE': 3, 'WATERMELON': 4}\n"
     ]
    }
   ],
   "source": [
    "print(x_train.class_indices)#checking the number of classes"
   ]
  },
  {
   "cell_type": "code",
   "execution_count": 7,
   "id": "fe7929f3",
   "metadata": {},
   "outputs": [
    {
     "name": "stdout",
     "output_type": "stream",
     "text": [
      "{}\n"
     ]
    }
   ],
   "source": [
    "print(x_test.class_indices)#checking the number of classes"
   ]
  },
  {
   "cell_type": "markdown",
   "id": "2e352fe1",
   "metadata": {},
   "source": [
    "# Model Building"
   ]
  },
  {
   "cell_type": "code",
   "execution_count": 8,
   "id": "64b8d964",
   "metadata": {},
   "outputs": [
    {
     "data": {
      "text/plain": [
       "Counter({0: 606, 1: 445, 2: 479, 3: 621, 4: 475})"
      ]
     },
     "execution_count": 8,
     "metadata": {},
     "output_type": "execute_result"
    }
   ],
   "source": [
    "from collections import Counter as c\n",
    "c(x_train .labels)"
   ]
  },
  {
   "cell_type": "code",
   "execution_count": 9,
   "id": "1c5b6b63",
   "metadata": {},
   "outputs": [],
   "source": [
    "# Initializing the CNN\n",
    "classifier = Sequential()"
   ]
  },
  {
   "cell_type": "code",
   "execution_count": 10,
   "id": "40a431b3",
   "metadata": {},
   "outputs": [],
   "source": [
    "# First convolution layer and pooling\n",
    "classifier.add(Conv2D(32, (3, 3), input_shape=(64, 64, 3), activation='relu'))\n",
    "classifier.add(MaxPooling2D(pool_size=(2, 2)))"
   ]
  },
  {
   "cell_type": "code",
   "execution_count": 11,
   "id": "718ee7d5",
   "metadata": {},
   "outputs": [],
   "source": [
    "# Second convolution layer and pooling\n",
    "classifier.add(Conv2D(32, (3, 3), activation='relu'))"
   ]
  },
  {
   "cell_type": "code",
   "execution_count": 12,
   "id": "030cef14",
   "metadata": {},
   "outputs": [],
   "source": [
    "# input_shape is going to be the pooled feature maps from the previous convolution layer\n",
    "classifier.add(MaxPooling2D(pool_size=(2, 2)))"
   ]
  },
  {
   "cell_type": "code",
   "execution_count": 13,
   "id": "cba5328e",
   "metadata": {},
   "outputs": [],
   "source": [
    "# Flattening the layers\n",
    "classifier.add(Flatten())"
   ]
  },
  {
   "cell_type": "code",
   "execution_count": 14,
   "id": "3700033d",
   "metadata": {},
   "outputs": [
    {
     "name": "stdout",
     "output_type": "stream",
     "text": [
      "Model: \"sequential\"\n",
      "_________________________________________________________________\n",
      " Layer (type)                Output Shape              Param #   \n",
      "=================================================================\n",
      " conv2d (Conv2D)             (None, 62, 62, 32)        896       \n",
      "                                                                 \n",
      " max_pooling2d (MaxPooling2D  (None, 31, 31, 32)       0         \n",
      " )                                                               \n",
      "                                                                 \n",
      " conv2d_1 (Conv2D)           (None, 29, 29, 32)        9248      \n",
      "                                                                 \n",
      " max_pooling2d_1 (MaxPooling  (None, 14, 14, 32)       0         \n",
      " 2D)                                                             \n",
      "                                                                 \n",
      " flatten (Flatten)           (None, 6272)              0         \n",
      "                                                                 \n",
      " dense (Dense)               (None, 128)               802944    \n",
      "                                                                 \n",
      " dense_1 (Dense)             (None, 113)               14577     \n",
      "                                                                 \n",
      "=================================================================\n",
      "Total params: 827,665\n",
      "Trainable params: 827,665\n",
      "Non-trainable params: 0\n",
      "_________________________________________________________________\n"
     ]
    }
   ],
   "source": [
    "# Adding a fully connected layer\n",
    "classifier.add(Dense(units=128, activation='relu'))\n",
    "classifier.add(Dense(units=113, activation='softmax')) # softmax for more than 2\n",
    "classifier.summary()#summary of our model"
   ]
  },
  {
   "cell_type": "code",
   "execution_count": 15,
   "id": "cc387c78",
   "metadata": {},
   "outputs": [],
   "source": [
    "# Compiling the CNN\n",
    "# categorical_crossentropy for more than 2\n",
    "classifier.compile(optimizer='adam', loss='sparse_categorical_crossentropy', metrics=['accuracy'])"
   ]
  },
  {
   "cell_type": "code",
   "execution_count": 16,
   "id": "45cbc69d",
   "metadata": {},
   "outputs": [
    {
     "name": "stderr",
     "output_type": "stream",
     "text": [
      "C:\\Users\\HARIHARAN D\\AppData\\Local\\Temp\\ipykernel_9460\\2719268462.py:1: UserWarning: `Model.fit_generator` is deprecated and will be removed in a future version. Please use `Model.fit`, which supports generators.\n",
      "  classifier.fit_generator(\n"
     ]
    },
    {
     "name": "stdout",
     "output_type": "stream",
     "text": [
      "Epoch 1/100\n",
      "24/24 [==============================] - 28s 1s/step - loss: 1.2130 - accuracy: 0.6542\n",
      "Epoch 2/100\n",
      "24/24 [==============================] - 24s 979ms/step - loss: 0.1751 - accuracy: 0.9520\n",
      "Epoch 3/100\n",
      "24/24 [==============================] - 24s 983ms/step - loss: 0.0615 - accuracy: 0.9859\n",
      "Epoch 4/100\n",
      "24/24 [==============================] - 25s 1s/step - loss: 0.0189 - accuracy: 0.9970\n",
      "Epoch 5/100\n",
      "24/24 [==============================] - 24s 992ms/step - loss: 0.0076 - accuracy: 0.9996\n",
      "Epoch 6/100\n",
      "24/24 [==============================] - 26s 1s/step - loss: 0.0052 - accuracy: 0.9989\n",
      "Epoch 7/100\n",
      "24/24 [==============================] - 25s 1s/step - loss: 0.0051 - accuracy: 0.9992\n",
      "Epoch 8/100\n",
      "24/24 [==============================] - 24s 994ms/step - loss: 0.0056 - accuracy: 0.9992\n",
      "Epoch 9/100\n",
      "24/24 [==============================] - 25s 1s/step - loss: 0.0021 - accuracy: 1.0000\n",
      "Epoch 10/100\n",
      "24/24 [==============================] - 25s 1s/step - loss: 0.0013 - accuracy: 1.0000\n",
      "Epoch 11/100\n",
      "24/24 [==============================] - 27s 1s/step - loss: 0.0022 - accuracy: 0.9996\n",
      "Epoch 12/100\n",
      "24/24 [==============================] - 25s 1s/step - loss: 9.8159e-04 - accuracy: 1.0000\n",
      "Epoch 13/100\n",
      "24/24 [==============================] - 25s 1s/step - loss: 0.0108 - accuracy: 0.9970\n",
      "Epoch 14/100\n",
      "24/24 [==============================] - 27s 1s/step - loss: 0.0033 - accuracy: 0.9992\n",
      "Epoch 15/100\n",
      "24/24 [==============================] - 25s 1s/step - loss: 0.0013 - accuracy: 1.0000\n",
      "Epoch 16/100\n",
      "24/24 [==============================] - 25s 1s/step - loss: 5.1336e-04 - accuracy: 1.0000\n",
      "Epoch 17/100\n",
      "24/24 [==============================] - 25s 1s/step - loss: 4.4076e-04 - accuracy: 1.0000\n",
      "Epoch 18/100\n",
      "24/24 [==============================] - 27s 1s/step - loss: 4.1020e-04 - accuracy: 1.0000\n",
      "Epoch 19/100\n",
      "24/24 [==============================] - 25s 1s/step - loss: 3.6600e-04 - accuracy: 1.0000\n",
      "Epoch 20/100\n",
      "24/24 [==============================] - 25s 1s/step - loss: 2.0393e-04 - accuracy: 1.0000\n",
      "Epoch 21/100\n",
      "24/24 [==============================] - 25s 1s/step - loss: 2.5429e-04 - accuracy: 1.0000\n",
      "Epoch 22/100\n",
      "24/24 [==============================] - 25s 1s/step - loss: 2.0500e-04 - accuracy: 1.0000\n",
      "Epoch 23/100\n",
      "24/24 [==============================] - 25s 1s/step - loss: 1.7857e-04 - accuracy: 1.0000\n",
      "Epoch 24/100\n",
      "24/24 [==============================] - 25s 1s/step - loss: 1.7785e-04 - accuracy: 1.0000\n",
      "Epoch 25/100\n",
      "24/24 [==============================] - 25s 1s/step - loss: 1.4486e-04 - accuracy: 1.0000\n",
      "Epoch 26/100\n",
      "24/24 [==============================] - 25s 1s/step - loss: 1.2157e-04 - accuracy: 1.0000\n",
      "Epoch 27/100\n",
      "24/24 [==============================] - 25s 1s/step - loss: 1.1978e-04 - accuracy: 1.0000\n",
      "Epoch 28/100\n",
      "24/24 [==============================] - 28s 1s/step - loss: 2.0307e-04 - accuracy: 1.0000\n",
      "Epoch 29/100\n",
      "24/24 [==============================] - 31s 1s/step - loss: 1.6214e-04 - accuracy: 1.0000\n",
      "Epoch 30/100\n",
      "24/24 [==============================] - 31s 1s/step - loss: 1.0595e-04 - accuracy: 1.0000\n",
      "Epoch 31/100\n",
      "24/24 [==============================] - 30s 1s/step - loss: 1.0879e-04 - accuracy: 1.0000\n",
      "Epoch 32/100\n",
      "24/24 [==============================] - 29s 1s/step - loss: 9.2478e-05 - accuracy: 1.0000\n",
      "Epoch 33/100\n",
      "24/24 [==============================] - 29s 1s/step - loss: 9.8509e-05 - accuracy: 1.0000\n",
      "Epoch 34/100\n",
      "24/24 [==============================] - 30s 1s/step - loss: 9.0434e-05 - accuracy: 1.0000\n",
      "Epoch 35/100\n",
      "24/24 [==============================] - 29s 1s/step - loss: 8.0326e-05 - accuracy: 1.0000\n",
      "Epoch 36/100\n",
      "24/24 [==============================] - 31s 1s/step - loss: 7.3567e-05 - accuracy: 1.0000\n",
      "Epoch 37/100\n",
      "24/24 [==============================] - 30s 1s/step - loss: 7.1722e-05 - accuracy: 1.0000\n",
      "Epoch 38/100\n",
      "24/24 [==============================] - 28s 1s/step - loss: 1.7756e-04 - accuracy: 1.0000\n",
      "Epoch 39/100\n",
      "24/24 [==============================] - 32s 1s/step - loss: 8.1758e-05 - accuracy: 1.0000\n",
      "Epoch 40/100\n",
      "24/24 [==============================] - 31s 1s/step - loss: 7.1628e-05 - accuracy: 1.0000\n",
      "Epoch 41/100\n",
      "24/24 [==============================] - 31s 1s/step - loss: 6.8755e-05 - accuracy: 1.0000\n",
      "Epoch 42/100\n",
      "24/24 [==============================] - 33s 1s/step - loss: 1.1355e-04 - accuracy: 1.0000\n",
      "Epoch 43/100\n",
      "24/24 [==============================] - 30s 1s/step - loss: 7.3904e-05 - accuracy: 1.0000\n",
      "Epoch 44/100\n",
      "24/24 [==============================] - 28s 1s/step - loss: 6.4208e-05 - accuracy: 1.0000\n",
      "Epoch 45/100\n",
      "24/24 [==============================] - 31s 1s/step - loss: 8.2084e-05 - accuracy: 1.0000\n",
      "Epoch 46/100\n",
      "24/24 [==============================] - 31s 1s/step - loss: 1.0649e-04 - accuracy: 1.0000\n",
      "Epoch 47/100\n",
      "24/24 [==============================] - 30s 1s/step - loss: 5.9157e-05 - accuracy: 1.0000\n",
      "Epoch 48/100\n",
      "24/24 [==============================] - 30s 1s/step - loss: 5.5939e-05 - accuracy: 1.0000\n",
      "Epoch 49/100\n",
      "24/24 [==============================] - 31s 1s/step - loss: 6.7788e-05 - accuracy: 1.0000\n",
      "Epoch 50/100\n",
      "24/24 [==============================] - 32s 1s/step - loss: 1.8690e-04 - accuracy: 1.0000\n",
      "Epoch 51/100\n",
      "24/24 [==============================] - 31s 1s/step - loss: 5.5780e-05 - accuracy: 1.0000\n",
      "Epoch 52/100\n",
      "24/24 [==============================] - 29s 1s/step - loss: 4.9767e-05 - accuracy: 1.0000\n",
      "Epoch 53/100\n",
      "24/24 [==============================] - 31s 1s/step - loss: 4.4711e-05 - accuracy: 1.0000\n",
      "Epoch 54/100\n",
      "24/24 [==============================] - 33s 1s/step - loss: 3.7923e-05 - accuracy: 1.0000\n",
      "Epoch 55/100\n",
      "24/24 [==============================] - 26s 1s/step - loss: 4.9733e-05 - accuracy: 1.0000\n",
      "Epoch 56/100\n",
      "24/24 [==============================] - 26s 1s/step - loss: 4.1681e-05 - accuracy: 1.0000\n",
      "Epoch 57/100\n",
      "24/24 [==============================] - 25s 1s/step - loss: 4.3931e-05 - accuracy: 1.0000\n",
      "Epoch 58/100\n",
      "24/24 [==============================] - 25s 1s/step - loss: 1.3265e-04 - accuracy: 1.0000\n",
      "Epoch 59/100\n",
      "24/24 [==============================] - 25s 1s/step - loss: 5.9088e-05 - accuracy: 1.0000\n",
      "Epoch 60/100\n",
      "24/24 [==============================] - 25s 1s/step - loss: 3.2844e-05 - accuracy: 1.0000\n",
      "Epoch 61/100\n",
      "24/24 [==============================] - 30s 1s/step - loss: 4.9464e-05 - accuracy: 1.0000\n",
      "Epoch 62/100\n",
      "24/24 [==============================] - 27s 1s/step - loss: 1.0869e-04 - accuracy: 1.0000\n",
      "Epoch 63/100\n",
      "24/24 [==============================] - 26s 1s/step - loss: 5.2093e-05 - accuracy: 1.0000\n",
      "Epoch 64/100\n",
      "24/24 [==============================] - 27s 1s/step - loss: 4.8739e-05 - accuracy: 1.0000\n",
      "Epoch 65/100\n",
      "24/24 [==============================] - 36s 1s/step - loss: 3.3905e-05 - accuracy: 1.0000\n",
      "Epoch 66/100\n",
      "24/24 [==============================] - 26s 1s/step - loss: 3.8357e-05 - accuracy: 1.0000\n",
      "Epoch 67/100\n",
      "24/24 [==============================] - 25s 1s/step - loss: 3.3531e-05 - accuracy: 1.0000\n",
      "Epoch 68/100\n",
      "24/24 [==============================] - 25s 1s/step - loss: 2.4691e-05 - accuracy: 1.0000\n",
      "Epoch 69/100\n",
      "24/24 [==============================] - 25s 1s/step - loss: 3.8689e-05 - accuracy: 1.0000\n",
      "Epoch 70/100\n",
      "24/24 [==============================] - 25s 1s/step - loss: 3.0591e-05 - accuracy: 1.0000\n",
      "Epoch 71/100\n",
      "24/24 [==============================] - 29s 1s/step - loss: 1.9430e-05 - accuracy: 1.0000\n",
      "Epoch 72/100\n",
      "24/24 [==============================] - 26s 1s/step - loss: 2.8468e-05 - accuracy: 1.0000\n",
      "Epoch 73/100\n",
      "24/24 [==============================] - 26s 1s/step - loss: 2.7976e-05 - accuracy: 1.0000\n",
      "Epoch 74/100\n",
      "24/24 [==============================] - 26s 1s/step - loss: 2.2813e-05 - accuracy: 1.0000\n",
      "Epoch 75/100\n",
      "24/24 [==============================] - 26s 1s/step - loss: 2.7072e-05 - accuracy: 1.0000\n",
      "Epoch 76/100\n",
      "24/24 [==============================] - 26s 1s/step - loss: 1.9389e-05 - accuracy: 1.0000\n",
      "Epoch 77/100\n",
      "24/24 [==============================] - 26s 1s/step - loss: 1.9294e-05 - accuracy: 1.0000\n",
      "Epoch 78/100\n",
      "24/24 [==============================] - 26s 1s/step - loss: 1.6758e-05 - accuracy: 1.0000\n",
      "Epoch 79/100\n",
      "24/24 [==============================] - 25s 1s/step - loss: 1.9757e-05 - accuracy: 1.0000\n",
      "Epoch 80/100\n"
     ]
    },
    {
     "name": "stdout",
     "output_type": "stream",
     "text": [
      "24/24 [==============================] - 25s 1s/step - loss: 2.7926e-05 - accuracy: 1.0000\n",
      "Epoch 81/100\n",
      "24/24 [==============================] - 25s 1s/step - loss: 1.8020e-05 - accuracy: 1.0000\n",
      "Epoch 82/100\n",
      "24/24 [==============================] - 25s 1s/step - loss: 1.5373e-05 - accuracy: 1.0000\n",
      "Epoch 83/100\n",
      "24/24 [==============================] - 25s 1s/step - loss: 1.5531e-05 - accuracy: 1.0000\n",
      "Epoch 84/100\n",
      "24/24 [==============================] - 25s 1s/step - loss: 2.7630e-05 - accuracy: 1.0000\n",
      "Epoch 85/100\n",
      "24/24 [==============================] - 25s 1s/step - loss: 1.7014e-05 - accuracy: 1.0000\n",
      "Epoch 86/100\n",
      "24/24 [==============================] - 25s 1s/step - loss: 6.8593e-05 - accuracy: 1.0000\n",
      "Epoch 87/100\n",
      "24/24 [==============================] - 25s 1s/step - loss: 2.5037e-05 - accuracy: 1.0000\n",
      "Epoch 88/100\n",
      "24/24 [==============================] - 25s 1s/step - loss: 2.4992e-05 - accuracy: 1.0000\n",
      "Epoch 89/100\n",
      "24/24 [==============================] - 25s 1s/step - loss: 2.8802e-05 - accuracy: 1.0000\n",
      "Epoch 90/100\n",
      "24/24 [==============================] - 25s 1s/step - loss: 2.7123e-05 - accuracy: 1.0000\n",
      "Epoch 91/100\n",
      "24/24 [==============================] - 25s 1s/step - loss: 1.4961e-05 - accuracy: 1.0000\n",
      "Epoch 92/100\n",
      "24/24 [==============================] - 25s 1s/step - loss: 1.7269e-05 - accuracy: 1.0000\n",
      "Epoch 93/100\n",
      "24/24 [==============================] - 25s 1s/step - loss: 1.5728e-05 - accuracy: 1.0000\n",
      "Epoch 94/100\n",
      "24/24 [==============================] - 25s 1s/step - loss: 2.6473e-05 - accuracy: 1.0000\n",
      "Epoch 95/100\n",
      "24/24 [==============================] - 25s 1s/step - loss: 1.9422e-05 - accuracy: 1.0000\n",
      "Epoch 96/100\n",
      "24/24 [==============================] - 25s 1s/step - loss: 1.2923e-05 - accuracy: 1.0000\n",
      "Epoch 97/100\n",
      "24/24 [==============================] - 25s 1s/step - loss: 1.2312e-05 - accuracy: 1.0000\n",
      "Epoch 98/100\n",
      "24/24 [==============================] - 25s 1s/step - loss: 1.0848e-05 - accuracy: 1.0000\n",
      "Epoch 99/100\n",
      "24/24 [==============================] - 25s 1s/step - loss: 1.3923e-05 - accuracy: 1.0000\n",
      "Epoch 100/100\n",
      "24/24 [==============================] - 25s 1s/step - loss: 3.2405e-05 - accuracy: 1.0000\n"
     ]
    },
    {
     "data": {
      "text/plain": [
       "<keras.callbacks.History at 0x1d151c15610>"
      ]
     },
     "execution_count": 16,
     "metadata": {},
     "output_type": "execute_result"
    }
   ],
   "source": [
    "classifier.fit_generator(\n",
    "        generator=x_train,steps_per_epoch = len(x_train),\n",
    "        epochs=100, validation_data=x_test,validation_steps = len(x_test))# No of images in test set"
   ]
  },
  {
   "cell_type": "code",
   "execution_count": 17,
   "id": "c212dc1e",
   "metadata": {},
   "outputs": [],
   "source": [
    "# Save the model\n",
    "classifier.save('nutrition.h5')"
   ]
  },
  {
   "cell_type": "code",
   "execution_count": 18,
   "id": "303bb618",
   "metadata": {},
   "outputs": [],
   "source": [
    "from tensorflow.keras.models import load_model\n",
    "from tensorflow.keras.preprocessing import image\n",
    "import numpy as np"
   ]
  },
  {
   "cell_type": "code",
   "execution_count": 19,
   "id": "3a115ab3",
   "metadata": {},
   "outputs": [],
   "source": [
    "img=image.load_img(r\"C:\\Users\\HARIHARAN D\\Desktop\\Project\\Dataset\\photo-1589820296156-2454bb8a6ad1.jpg\",target_size=(64,64))"
   ]
  },
  {
   "cell_type": "code",
   "execution_count": 20,
   "id": "1ace58d3",
   "metadata": {
    "scrolled": true
   },
   "outputs": [
    {
     "data": {
      "image/png": "[encoded data removed]",
      "text/plain": [
       "<PIL.Image.Image image mode=RGB size=64x64>"
      ]
     },
     "execution_count": 20,
     "metadata": {},
     "output_type": "execute_result"
    }
   ],
   "source": [
    "img"
   ]
  },
  {
   "cell_type": "code",
   "execution_count": 21,
   "id": "83a2b468",
   "metadata": {},
   "outputs": [],
   "source": [
    "x=image.img_to_array(img)#conversion image into array"
   ]
  },
  {
   "cell_type": "code",
   "execution_count": 22,
   "id": "ac398656",
   "metadata": {},
   "outputs": [
    {
     "data": {
      "text/plain": [
       "array([[[184., 158.,   3.],\n",
       "        [186., 160.,   3.],\n",
       "        [183., 157.,   0.],\n",
       "        ...,\n",
       "        [203., 182.,   1.],\n",
       "        [204., 181.,   5.],\n",
       "        [204., 181.,   3.]],\n",
       "\n",
       "       [[184., 158.,   1.],\n",
       "        [186., 160.,   1.],\n",
       "        [188., 162.,   3.],\n",
       "        ...,\n",
       "        [205., 183.,   2.],\n",
       "        [204., 182.,   1.],\n",
       "        [205., 183.,   1.]],\n",
       "\n",
       "       [[187., 159.,   0.],\n",
       "        [190., 162.,   3.],\n",
       "        [191., 163.,   2.],\n",
       "        ...,\n",
       "        [207., 185.,   3.],\n",
       "        [206., 184.,   2.],\n",
       "        [206., 186.,   1.]],\n",
       "\n",
       "       ...,\n",
       "\n",
       "       [[210., 191.,   1.],\n",
       "        [211., 192.,   2.],\n",
       "        [214., 194.,   3.],\n",
       "        ...,\n",
       "        [225., 217.,  57.],\n",
       "        [224., 216.,  53.],\n",
       "        [224., 216.,  56.]],\n",
       "\n",
       "       [[211., 190.,   3.],\n",
       "        [211., 190.,   1.],\n",
       "        [212., 193.,   2.],\n",
       "        ...,\n",
       "        [225., 217.,  54.],\n",
       "        [223., 218.,  56.],\n",
       "        [222., 216.,  56.]],\n",
       "\n",
       "       [[211., 192.,   2.],\n",
       "        [212., 193.,   2.],\n",
       "        [211., 192.,   1.],\n",
       "        ...,\n",
       "        [222., 218.,  59.],\n",
       "        [221., 215.,  55.],\n",
       "        [226., 219.,  53.]]], dtype=float32)"
      ]
     },
     "execution_count": 22,
     "metadata": {},
     "output_type": "execute_result"
    }
   ],
   "source": [
    "x"
   ]
  },
  {
   "cell_type": "code",
   "execution_count": 23,
   "id": "5ae08de8",
   "metadata": {},
   "outputs": [
    {
     "data": {
      "text/plain": [
       "3"
      ]
     },
     "execution_count": 23,
     "metadata": {},
     "output_type": "execute_result"
    }
   ],
   "source": [
    "x.ndim"
   ]
  },
  {
   "cell_type": "code",
   "execution_count": 24,
   "id": "a9099173",
   "metadata": {},
   "outputs": [],
   "source": [
    "x=np.expand_dims(x,axis=0) #expand the dimension"
   ]
  },
  {
   "cell_type": "code",
   "execution_count": 25,
   "id": "fc3575c8",
   "metadata": {},
   "outputs": [
    {
     "data": {
      "text/plain": [
       "4"
      ]
     },
     "execution_count": 25,
     "metadata": {},
     "output_type": "execute_result"
    }
   ],
   "source": [
    "x.ndim"
   ]
  },
  {
   "cell_type": "code",
   "execution_count": 26,
   "id": "0076113e",
   "metadata": {},
   "outputs": [
    {
     "name": "stdout",
     "output_type": "stream",
     "text": [
      "1/1 [==============================] - 0s 406ms/step\n"
     ]
    }
   ],
   "source": [
    "pred = classifier.predict(x)"
   ]
  },
  {
   "cell_type": "code",
   "execution_count": 27,
   "id": "6a347ebc",
   "metadata": {},
   "outputs": [
    {
     "data": {
      "text/plain": [
       "array([[0., 1., 0., 0., 0., 0., 0., 0., 0., 0., 0., 0., 0., 0., 0., 0.,\n",
       "        0., 0., 0., 0., 0., 0., 0., 0., 0., 0., 0., 0., 0., 0., 0., 0.,\n",
       "        0., 0., 0., 0., 0., 0., 0., 0., 0., 0., 0., 0., 0., 0., 0., 0.,\n",
       "        0., 0., 0., 0., 0., 0., 0., 0., 0., 0., 0., 0., 0., 0., 0., 0.,\n",
       "        0., 0., 0., 0., 0., 0., 0., 0., 0., 0., 0., 0., 0., 0., 0., 0.,\n",
       "        0., 0., 0., 0., 0., 0., 0., 0., 0., 0., 0., 0., 0., 0., 0., 0.,\n",
       "        0., 0., 0., 0., 0., 0., 0., 0., 0., 0., 0., 0., 0., 0., 0., 0.,\n",
       "        0.]], dtype=float32)"
      ]
     },
     "execution_count": 27,
     "metadata": {},
     "output_type": "execute_result"
    }
   ],
   "source": [
    "pred"
   ]
  },
  {
   "cell_type": "code",
   "execution_count": 28,
   "id": "01721e24",
   "metadata": {},
   "outputs": [],
   "source": [
    "labels=['APPLES','BANANA','ORANGE','PINEAPPLE','WATERMELON']"
   ]
  },
  {
   "cell_type": "code",
   "execution_count": 29,
   "id": "cae958db",
   "metadata": {},
   "outputs": [
    {
     "data": {
      "text/plain": [
       "'BANANA'"
      ]
     },
     "execution_count": 29,
     "metadata": {},
     "output_type": "execute_result"
    }
   ],
   "source": [
    "labels[np.argmax(pred)]"
   ]
  }
 ],
 "metadata": {
  "kernelspec": {
   "display_name": "Python 3 (ipykernel)",
   "language": "python",
   "name": "python3"
  },
  "language_info": {
   "codemirror_mode": {
    "name": "ipython",
    "version": 3
   },
   "file_extension": ".py",
   "mimetype": "text/x-python",
   "name": "python",
   "nbconvert_exporter": "python",
   "pygments_lexer": "ipython3",
   "version": "3.9.13"
  }
 },
 "nbformat": 4,
 "nbformat_minor": 5
}

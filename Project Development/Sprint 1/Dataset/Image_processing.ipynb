{
 "cells": [
  {
   "cell_type": "code",
   "execution_count": 1,
   "id": "b00d47c7",
   "metadata": {},
   "outputs": [],
   "source": [
    "import numpy as np#used for numerical analysis\n",
    "import tensorflow #open source used for both ML and DL for computation\n",
    "from tensorflow.keras.models import Sequential #it is a plain stack of layers\n",
    "from tensorflow.keras import layers #A layer consists of a tensor-in tensor-out computation function\n",
    "#Dense layer is the regular deeply connected neural network layer\n",
    "from tensorflow.keras.layers import Dense,Flatten\n",
    "#Faltten-used fot flattening the input or change the dimension\n",
    "from tensorflow.keras.layers import Conv2D,MaxPooling2D,Dropout #Convolutional layer\n",
    "#MaxPooling2D-for downsampling the image\n",
    "from keras.preprocessing.image import ImageDataGenerator"
   ]
  },
  {
   "cell_type": "code",
   "execution_count": 2,
   "id": "689d7c3e",
   "metadata": {},
   "outputs": [],
   "source": [
    "#setting parameter for Image Data agumentation to the training data\n",
    "train_datagen = ImageDataGenerator(rescale=1./255,shear_range=0.2,zoom_range=0.2,horizontal_flip=True)\n",
    "#Image Data agumentation to the testing data\n",
    "test_datagen=ImageDataGenerator(rescale=1./255)"
   ]
  },
  {
   "cell_type": "code",
   "execution_count": 3,
   "id": "d4b6872f",
   "metadata": {},
   "outputs": [
    {
     "name": "stdout",
     "output_type": "stream",
     "text": [
      "Found 22442 images belonging to 113 classes.\n",
      "Found 22442 images belonging to 113 classes.\n"
     ]
    }
   ],
   "source": [
    "#performing data agumentation to train data\n",
    "x_train = train_datagen.flow_from_directory(\n",
    "    r'C:/Users/HARIHARAN D/Desktop/Project/Training/Dataset/TRAIN_SET',\n",
    "    target_size=(64, 64),batch_size=113,color_mode='rgb',class_mode='sparse')\n",
    "#performing data agumentation to test data\n",
    "x_test = test_datagen.flow_from_directory(\n",
    "    r'C:/Users/HARIHARAN D/Desktop/Project/Training/Dataset/TEST_SET',\n",
    "    target_size=(64, 64),batch_size=113,color_mode='rgb',class_mode='sparse') "
   ]
  },
  {
   "cell_type": "code",
   "execution_count": 4,
   "id": "82c75546",
   "metadata": {},
   "outputs": [
    {
     "name": "stdout",
     "output_type": "stream",
     "text": [
      "{'Apple Braeburn': 0, 'Apple Crimson Snow': 1, 'Apple Golden': 2, 'Apple Granny Smith': 3, 'Apple Pink Lady': 4, 'Apple Red': 5, 'Apple Red Delicious': 6, 'Apple Red Yellow': 7, 'Apricot': 8, 'Avocado': 9, 'Avocado ripe': 10, 'Banana': 11, 'Banana Lady Finger': 12, 'Banana Red': 13, 'Beetroot': 14, 'Blueberry': 15, 'Cactus fruit': 16, 'Cantaloupe': 17, 'Carambula': 18, 'Cauliflower': 19, 'Cherry': 20, 'Cherry Rainier': 21, 'Cherry Wax Black': 22, 'Cherry Wax Red': 23, 'Cherry Wax Yellow': 24, 'Chestnut': 25, 'Clementine': 26, 'Cocos': 27, 'Corn': 28, 'Corn Husk': 29, 'Cucumber Ripe': 30, 'Dates': 31, 'Eggplant': 32, 'Fig': 33, 'Ginger Root': 34, 'Granadilla': 35, 'Grape Blue': 36, 'Grape Pink': 37, 'Grape White': 38, 'Grapefruit Pink': 39, 'Grapefruit White': 40, 'Guava': 41, 'Hazelnut': 42, 'Huckleberry': 43, 'Kaki': 44, 'Kiwi': 45, 'Kohlrabi': 46, 'Kumquats': 47, 'Lemon': 48, 'Lemon Meyer': 49, 'Limes': 50, 'Lychee': 51, 'Mandarine': 52, 'Mango': 53, 'Mango Red': 54, 'Mangostan': 55, 'Maracuja': 56, 'Melon Piel de Sapo': 57, 'Mulberry': 58, 'Nectarine': 59, 'Nectarine Flat': 60, 'Nut Forest': 61, 'Nut Pecan': 62, 'Onion Red': 63, 'Onion Red Peeled': 64, 'Onion White': 65, 'Orange': 66, 'Papaya': 67, 'Passion Fruit': 68, 'Peach': 69, 'Peach Flat': 70, 'Pear': 71, 'Pear Abate': 72, 'Pear Forelle': 73, 'Pear Kaiser': 74, 'Pear Monster': 75, 'Pear Red': 76, 'Pear Stone': 77, 'Pear Williams': 78, 'Pepino': 79, 'Pepper Green': 80, 'Pepper Orange': 81, 'Pepper Red': 82, 'Pepper Yellow': 83, 'Physalis': 84, 'Physalis with Husk': 85, 'Pineapple': 86, 'Pineapple Mini': 87, 'Pitahaya Red': 88, 'Plum': 89, 'Pomegranate': 90, 'Pomelo Sweetie': 91, 'Potato Red': 92, 'Potato Red Washed': 93, 'Potato Sweet': 94, 'Potato White': 95, 'Quince': 96, 'Rambutan': 97, 'Raspberry': 98, 'Redcurrant': 99, 'Salak': 100, 'Strawberry': 101, 'Strawberry Wedge': 102, 'Tamarillo': 103, 'Tangelo': 104, 'Tomato': 105, 'Tomato Cherry Red': 106, 'Tomato Heart': 107, 'Tomato Maroon': 108, 'Tomato Yellow': 109, 'Tomato not Ripened': 110, 'Walnut': 111, 'Watermelon': 112}\n"
     ]
    }
   ],
   "source": [
    "print(x_train.class_indices)#checking the number of classes"
   ]
  },
  {
   "cell_type": "code",
   "execution_count": 5,
   "id": "2fdfd853",
   "metadata": {},
   "outputs": [
    {
     "name": "stdout",
     "output_type": "stream",
     "text": [
      "{'Apple Braeburn': 0, 'Apple Crimson Snow': 1, 'Apple Golden': 2, 'Apple Granny Smith': 3, 'Apple Pink Lady': 4, 'Apple Red': 5, 'Apple Red Delicious': 6, 'Apple Red Yellow': 7, 'Apricot': 8, 'Avocado': 9, 'Avocado ripe': 10, 'Banana': 11, 'Banana Lady Finger': 12, 'Banana Red': 13, 'Beetroot': 14, 'Blueberry': 15, 'Cactus fruit': 16, 'Cantaloupe': 17, 'Carambula': 18, 'Cauliflower': 19, 'Cherry': 20, 'Cherry Rainier': 21, 'Cherry Wax Black': 22, 'Cherry Wax Red': 23, 'Cherry Wax Yellow': 24, 'Chestnut': 25, 'Clementine': 26, 'Cocos': 27, 'Corn': 28, 'Corn Husk': 29, 'Cucumber Ripe': 30, 'Dates': 31, 'Eggplant': 32, 'Fig': 33, 'Ginger Root': 34, 'Granadilla': 35, 'Grape Blue': 36, 'Grape Pink': 37, 'Grape White': 38, 'Grapefruit Pink': 39, 'Grapefruit White': 40, 'Guava': 41, 'Hazelnut': 42, 'Huckleberry': 43, 'Kaki': 44, 'Kiwi': 45, 'Kohlrabi': 46, 'Kumquats': 47, 'Lemon': 48, 'Lemon Meyer': 49, 'Limes': 50, 'Lychee': 51, 'Mandarine': 52, 'Mango': 53, 'Mango Red': 54, 'Mangostan': 55, 'Maracuja': 56, 'Melon Piel de Sapo': 57, 'Mulberry': 58, 'Nectarine': 59, 'Nectarine Flat': 60, 'Nut Forest': 61, 'Nut Pecan': 62, 'Onion Red': 63, 'Onion Red Peeled': 64, 'Onion White': 65, 'Orange': 66, 'Papaya': 67, 'Passion Fruit': 68, 'Peach': 69, 'Peach Flat': 70, 'Pear': 71, 'Pear Abate': 72, 'Pear Forelle': 73, 'Pear Kaiser': 74, 'Pear Monster': 75, 'Pear Red': 76, 'Pear Stone': 77, 'Pear Williams': 78, 'Pepino': 79, 'Pepper Green': 80, 'Pepper Orange': 81, 'Pepper Red': 82, 'Pepper Yellow': 83, 'Physalis': 84, 'Physalis with Husk': 85, 'Pineapple': 86, 'Pineapple Mini': 87, 'Pitahaya Red': 88, 'Plum': 89, 'Pomegranate': 90, 'Pomelo Sweetie': 91, 'Potato Red': 92, 'Potato Red Washed': 93, 'Potato Sweet': 94, 'Potato White': 95, 'Quince': 96, 'Rambutan': 97, 'Raspberry': 98, 'Redcurrant': 99, 'Salak': 100, 'Strawberry': 101, 'Strawberry Wedge': 102, 'Tamarillo': 103, 'Tangelo': 104, 'Tomato': 105, 'Tomato Cherry Red': 106, 'Tomato Heart': 107, 'Tomato Maroon': 108, 'Tomato Yellow': 109, 'Tomato not Ripened': 110, 'Walnut': 111, 'Watermelon': 112}\n"
     ]
    }
   ],
   "source": [
    "print(x_test.class_indices)#checking the number of classes"
   ]
  }
 ],
 "metadata": {
  "kernelspec": {
   "display_name": "Python 3 (ipykernel)",
   "language": "python",
   "name": "python3"
  },
  "language_info": {
   "codemirror_mode": {
    "name": "ipython",
    "version": 3
   },
   "file_extension": ".py",
   "mimetype": "text/x-python",
   "name": "python",
   "nbconvert_exporter": "python",
   "pygments_lexer": "ipython3",
   "version": "3.9.13"
  }
 },
 "nbformat": 4,
 "nbformat_minor": 5
}
